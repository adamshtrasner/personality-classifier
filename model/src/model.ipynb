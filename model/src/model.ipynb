{
 "cells": [
  {
   "cell_type": "code",
   "execution_count": 1,
   "id": "ca107030",
   "metadata": {
    "papermill": {
     "duration": 6.548728,
     "end_time": "2025-07-27T20:52:39.017453",
     "exception": false,
     "start_time": "2025-07-27T20:52:32.468725",
     "status": "completed"
    },
    "tags": []
   },
   "outputs": [],
   "source": [
    "import numpy as np\n",
    "import pandas as pd\n",
    "\n",
    "# Visualizastion\n",
    "import matplotlib.pyplot as plt\n",
    "import seaborn as sns\n",
    "import missingno as msno\n",
    "sns.set_palette(sns.color_palette(\"deep\", 10))\n",
    "sns.set_style(\"whitegrid\")\n",
    "\n",
    "# Sklearn\n",
    "from sklearn.metrics import classification_report\n",
    "from sklearn.base import clone\n",
    "from sklearn.metrics import roc_curve, roc_auc_score, accuracy_score, confusion_matrix, ConfusionMatrixDisplay\n",
    "from sklearn.preprocessing import StandardScaler\n",
    "from sklearn.impute import SimpleImputer\n",
    "from sklearn.ensemble import StackingClassifier\n",
    "from sklearn.model_selection import train_test_split, StratifiedKFold, cross_val_score\n",
    "from sklearn.pipeline import Pipeline\n",
    "\n",
    "# Classifiers\n",
    "from sklearn.linear_model import LogisticRegression\n",
    "from sklearn.svm import SVC\n",
    "from sklearn.ensemble import RandomForestClassifier\n",
    "from sklearn.neighbors import KNeighborsClassifier\n",
    "from sklearn.naive_bayes import GaussianNB\n",
    "from sklearn.neural_network import MLPClassifier\n",
    "from xgboost import XGBClassifier\n",
    "# from lightgbm import LGBMClassifier\n",
    "\n",
    "# Hyperparameter Optimization\n",
    "import optuna"
   ]
  },
  {
   "cell_type": "code",
   "execution_count": 3,
   "id": "92f0ba8a",
   "metadata": {
    "papermill": {
     "duration": 0.063767,
     "end_time": "2025-07-27T20:52:39.088342",
     "exception": false,
     "start_time": "2025-07-27T20:52:39.024575",
     "status": "completed"
    },
    "tags": []
   },
   "outputs": [],
   "source": [
    "df_train = pd.read_csv(\"train.csv\", index_col='id')"
   ]
  },
  {
   "cell_type": "code",
   "execution_count": 4,
   "id": "ed370130",
   "metadata": {
    "papermill": {
     "duration": 0.028169,
     "end_time": "2025-07-27T20:52:39.123420",
     "exception": false,
     "start_time": "2025-07-27T20:52:39.095251",
     "status": "completed"
    },
    "tags": []
   },
   "outputs": [
    {
     "data": {
      "text/html": [
       "<div>\n",
       "<style scoped>\n",
       "    .dataframe tbody tr th:only-of-type {\n",
       "        vertical-align: middle;\n",
       "    }\n",
       "\n",
       "    .dataframe tbody tr th {\n",
       "        vertical-align: top;\n",
       "    }\n",
       "\n",
       "    .dataframe thead th {\n",
       "        text-align: right;\n",
       "    }\n",
       "</style>\n",
       "<table border=\"1\" class=\"dataframe\">\n",
       "  <thead>\n",
       "    <tr style=\"text-align: right;\">\n",
       "      <th></th>\n",
       "      <th>Time_spent_Alone</th>\n",
       "      <th>Stage_fear</th>\n",
       "      <th>Social_event_attendance</th>\n",
       "      <th>Going_outside</th>\n",
       "      <th>Drained_after_socializing</th>\n",
       "      <th>Friends_circle_size</th>\n",
       "      <th>Post_frequency</th>\n",
       "      <th>Personality</th>\n",
       "    </tr>\n",
       "    <tr>\n",
       "      <th>id</th>\n",
       "      <th></th>\n",
       "      <th></th>\n",
       "      <th></th>\n",
       "      <th></th>\n",
       "      <th></th>\n",
       "      <th></th>\n",
       "      <th></th>\n",
       "      <th></th>\n",
       "    </tr>\n",
       "  </thead>\n",
       "  <tbody>\n",
       "    <tr>\n",
       "      <th>0</th>\n",
       "      <td>0.0</td>\n",
       "      <td>No</td>\n",
       "      <td>6.0</td>\n",
       "      <td>4.0</td>\n",
       "      <td>No</td>\n",
       "      <td>15.0</td>\n",
       "      <td>5.0</td>\n",
       "      <td>Extrovert</td>\n",
       "    </tr>\n",
       "    <tr>\n",
       "      <th>1</th>\n",
       "      <td>1.0</td>\n",
       "      <td>No</td>\n",
       "      <td>7.0</td>\n",
       "      <td>3.0</td>\n",
       "      <td>No</td>\n",
       "      <td>10.0</td>\n",
       "      <td>8.0</td>\n",
       "      <td>Extrovert</td>\n",
       "    </tr>\n",
       "    <tr>\n",
       "      <th>2</th>\n",
       "      <td>6.0</td>\n",
       "      <td>Yes</td>\n",
       "      <td>1.0</td>\n",
       "      <td>0.0</td>\n",
       "      <td>NaN</td>\n",
       "      <td>3.0</td>\n",
       "      <td>0.0</td>\n",
       "      <td>Introvert</td>\n",
       "    </tr>\n",
       "    <tr>\n",
       "      <th>3</th>\n",
       "      <td>3.0</td>\n",
       "      <td>No</td>\n",
       "      <td>7.0</td>\n",
       "      <td>3.0</td>\n",
       "      <td>No</td>\n",
       "      <td>11.0</td>\n",
       "      <td>5.0</td>\n",
       "      <td>Extrovert</td>\n",
       "    </tr>\n",
       "    <tr>\n",
       "      <th>4</th>\n",
       "      <td>1.0</td>\n",
       "      <td>No</td>\n",
       "      <td>4.0</td>\n",
       "      <td>4.0</td>\n",
       "      <td>No</td>\n",
       "      <td>13.0</td>\n",
       "      <td>NaN</td>\n",
       "      <td>Extrovert</td>\n",
       "    </tr>\n",
       "  </tbody>\n",
       "</table>\n",
       "</div>"
      ],
      "text/plain": [
       "    Time_spent_Alone Stage_fear  Social_event_attendance  Going_outside  \\\n",
       "id                                                                        \n",
       "0                0.0         No                      6.0            4.0   \n",
       "1                1.0         No                      7.0            3.0   \n",
       "2                6.0        Yes                      1.0            0.0   \n",
       "3                3.0         No                      7.0            3.0   \n",
       "4                1.0         No                      4.0            4.0   \n",
       "\n",
       "   Drained_after_socializing  Friends_circle_size  Post_frequency Personality  \n",
       "id                                                                             \n",
       "0                         No                 15.0             5.0   Extrovert  \n",
       "1                         No                 10.0             8.0   Extrovert  \n",
       "2                        NaN                  3.0             0.0   Introvert  \n",
       "3                         No                 11.0             5.0   Extrovert  \n",
       "4                         No                 13.0             NaN   Extrovert  "
      ]
     },
     "execution_count": 4,
     "metadata": {},
     "output_type": "execute_result"
    }
   ],
   "source": [
    "df_train.head()"
   ]
  },
  {
   "cell_type": "code",
   "execution_count": 5,
   "id": "b8c7e7b5",
   "metadata": {
    "papermill": {
     "duration": 0.027809,
     "end_time": "2025-07-27T20:52:39.158328",
     "exception": false,
     "start_time": "2025-07-27T20:52:39.130519",
     "status": "completed"
    },
    "tags": []
   },
   "outputs": [
    {
     "name": "stdout",
     "output_type": "stream",
     "text": [
      "<class 'pandas.core.frame.DataFrame'>\n",
      "Index: 18524 entries, 0 to 18523\n",
      "Data columns (total 8 columns):\n",
      " #   Column                     Non-Null Count  Dtype  \n",
      "---  ------                     --------------  -----  \n",
      " 0   Time_spent_Alone           17334 non-null  float64\n",
      " 1   Stage_fear                 16631 non-null  object \n",
      " 2   Social_event_attendance    17344 non-null  float64\n",
      " 3   Going_outside              17058 non-null  float64\n",
      " 4   Drained_after_socializing  17375 non-null  object \n",
      " 5   Friends_circle_size        17470 non-null  float64\n",
      " 6   Post_frequency             17260 non-null  float64\n",
      " 7   Personality                18524 non-null  object \n",
      "dtypes: float64(5), object(3)\n",
      "memory usage: 1.3+ MB\n"
     ]
    }
   ],
   "source": [
    "df_train.info()"
   ]
  },
  {
   "cell_type": "markdown",
   "id": "0c2b407e",
   "metadata": {
    "papermill": {
     "duration": 0.006732,
     "end_time": "2025-07-27T20:52:39.172237",
     "exception": false,
     "start_time": "2025-07-27T20:52:39.165505",
     "status": "completed"
    },
    "tags": []
   },
   "source": [
    "# Impute Missing Values"
   ]
  },
  {
   "cell_type": "code",
   "execution_count": 6,
   "id": "4c25f750",
   "metadata": {
    "papermill": {
     "duration": 0.707272,
     "end_time": "2025-07-27T20:52:39.886725",
     "exception": false,
     "start_time": "2025-07-27T20:52:39.179453",
     "status": "completed"
    },
    "tags": []
   },
   "outputs": [
    {
     "data": {
      "text/plain": [
       "<Axes: >"
      ]
     },
     "execution_count": 6,
     "metadata": {},
     "output_type": "execute_result"
    },
    {
     "data": {
      "image/png": "[encoded data removed]",
      "text/plain": [
       "<Figure size 1000x600 with 3 Axes>"
      ]
     },
     "metadata": {},
     "output_type": "display_data"
    }
   ],
   "source": [
    "msno.bar(df_train, figsize=(10, 6))"
   ]
  },
  {
   "cell_type": "markdown",
   "id": "71727d88",
   "metadata": {
    "papermill": {
     "duration": 0.009397,
     "end_time": "2025-07-27T20:52:40.438803",
     "exception": false,
     "start_time": "2025-07-27T20:52:40.429406",
     "status": "completed"
    },
    "tags": []
   },
   "source": [
    "We'll fill the missing values of ```Stage_fear``` and ```Drained_from_socializing``` features using the ```mode```.\n",
    "\n",
    "For the rest of the features we'll use the ```mean```."
   ]
  },
  {
   "cell_type": "code",
   "execution_count": 8,
   "id": "4952bbfa",
   "metadata": {
    "papermill": {
     "duration": 0.026346,
     "end_time": "2025-07-27T20:52:40.474719",
     "exception": false,
     "start_time": "2025-07-27T20:52:40.448373",
     "status": "completed"
    },
    "tags": []
   },
   "outputs": [],
   "source": [
    "categorical_columns = df_train.select_dtypes(include=['object']).columns.tolist()\n",
    "categorical_columns.remove('Personality')\n",
    "\n",
    "# for col in categorical_columns:\n",
    "#     mode = df_train[col].mode()[0]\n",
    "#     df_train[col].fillna(mode, inplace=True)\n",
    "#     if col in df_test.columns:\n",
    "#         df_test[col].fillna(mode, inplace=True)\n",
    "\n",
    "mode_imputer = SimpleImputer(strategy='most_frequent')\n",
    "df_train[categorical_columns] = mode_imputer.fit_transform(df_train[categorical_columns])"
   ]
  },
  {
   "cell_type": "code",
   "execution_count": 9,
   "id": "764e5b5b",
   "metadata": {
    "papermill": {
     "duration": 0.026198,
     "end_time": "2025-07-27T20:52:40.510586",
     "exception": false,
     "start_time": "2025-07-27T20:52:40.484388",
     "status": "completed"
    },
    "tags": []
   },
   "outputs": [],
   "source": [
    "numeric_columns = df_train.select_dtypes(include=[\"float64\"]).columns.tolist()\n",
    "\n",
    "# for col in numeric_columns:\n",
    "#     mean = df_train[col].mean()\n",
    "#     df_train[col].fillna(mean, inplace=True)\n",
    "#     if col in df_test.columns:\n",
    "#         df_test[col].fillna(mean, inplace=True)\n",
    "\n",
    "mean_imputer = SimpleImputer(strategy='mean')\n",
    "df_train[numeric_columns] = mean_imputer.fit_transform(df_train[numeric_columns])\n",
    "\n",
    "for col in numeric_columns:\n",
    "    df_train[col] = df_train[col].astype(int)"
   ]
  },
  {
   "cell_type": "markdown",
   "id": "f2be0420",
   "metadata": {
    "papermill": {
     "duration": 0.009279,
     "end_time": "2025-07-27T20:52:40.529217",
     "exception": false,
     "start_time": "2025-07-27T20:52:40.519938",
     "status": "completed"
    },
    "tags": []
   },
   "source": [
    "# Visualization"
   ]
  },
  {
   "cell_type": "markdown",
   "id": "fc90269f",
   "metadata": {
    "papermill": {
     "duration": 0.009459,
     "end_time": "2025-07-27T20:52:40.548130",
     "exception": false,
     "start_time": "2025-07-27T20:52:40.538671",
     "status": "completed"
    },
    "tags": []
   },
   "source": [
    "## Personality"
   ]
  },
  {
   "cell_type": "markdown",
   "id": "9ef8af55",
   "metadata": {
    "papermill": {
     "duration": 0.009253,
     "end_time": "2025-07-27T20:52:40.566764",
     "exception": false,
     "start_time": "2025-07-27T20:52:40.557511",
     "status": "completed"
    },
    "tags": []
   },
   "source": [
    "We would first like to check if there is imbalance in our dataset:"
   ]
  },
  {
   "cell_type": "code",
   "execution_count": 10,
   "id": "95c840e1",
   "metadata": {
    "papermill": {
     "duration": 0.145472,
     "end_time": "2025-07-27T20:52:40.721637",
     "exception": false,
     "start_time": "2025-07-27T20:52:40.576165",
     "status": "completed"
    },
    "tags": []
   },
   "outputs": [
    {
     "data": {
      "text/plain": [
       "<Axes: xlabel='Personality', ylabel='count'>"
      ]
     },
     "execution_count": 10,
     "metadata": {},
     "output_type": "execute_result"
    },
    {
     "data": {
      "image/png": "[encoded data removed]",
      "text/plain": [
       "<Figure size 640x480 with 1 Axes>"
      ]
     },
     "metadata": {},
     "output_type": "display_data"
    }
   ],
   "source": [
    "sns.countplot(df_train, x=\"Personality\")"
   ]
  },
  {
   "cell_type": "markdown",
   "id": "6fdae777",
   "metadata": {
    "papermill": {
     "duration": 0.009911,
     "end_time": "2025-07-27T20:52:40.781780",
     "exception": false,
     "start_time": "2025-07-27T20:52:40.771869",
     "status": "completed"
    },
    "tags": []
   },
   "source": [
    "We can see that indeed the data is very imbalanced and there are way more extrovert examples than there are of introvert, and we need to adress this when fitting a model."
   ]
  },
  {
   "cell_type": "markdown",
   "id": "1467a33b",
   "metadata": {
    "papermill": {
     "duration": 0.009798,
     "end_time": "2025-07-27T20:52:40.801415",
     "exception": false,
     "start_time": "2025-07-27T20:52:40.791617",
     "status": "completed"
    },
    "tags": []
   },
   "source": [
    "## Stage_Fear"
   ]
  },
  {
   "cell_type": "code",
   "execution_count": 11,
   "id": "01866ab2",
   "metadata": {
    "papermill": {
     "duration": 0.182645,
     "end_time": "2025-07-27T20:52:40.993817",
     "exception": false,
     "start_time": "2025-07-27T20:52:40.811172",
     "status": "completed"
    },
    "tags": []
   },
   "outputs": [
    {
     "data": {
      "text/plain": [
       "<Axes: xlabel='Personality', ylabel='count'>"
      ]
     },
     "execution_count": 11,
     "metadata": {},
     "output_type": "execute_result"
    },
    {
     "data": {
      "image/png": "[encoded data removed]",
      "text/plain": [
       "<Figure size 640x480 with 1 Axes>"
      ]
     },
     "metadata": {},
     "output_type": "display_data"
    }
   ],
   "source": [
    "sns.countplot(df_train, x=\"Personality\", hue=\"Stage_fear\")"
   ]
  },
  {
   "cell_type": "code",
   "execution_count": 12,
   "id": "4d39e937",
   "metadata": {
    "papermill": {
     "duration": 0.020317,
     "end_time": "2025-07-27T20:52:41.024551",
     "exception": false,
     "start_time": "2025-07-27T20:52:41.004234",
     "status": "completed"
    },
    "tags": []
   },
   "outputs": [
    {
     "data": {
      "text/plain": [
       "Personality\n",
       "Introvert    3786\n",
       "Extrovert     236\n",
       "Name: count, dtype: int64"
      ]
     },
     "execution_count": 12,
     "metadata": {},
     "output_type": "execute_result"
    }
   ],
   "source": [
    "df_train[df_train['Stage_fear'] == 'Yes']['Personality'].value_counts()"
   ]
  },
  {
   "cell_type": "markdown",
   "id": "7502813e",
   "metadata": {
    "papermill": {
     "duration": 0.010362,
     "end_time": "2025-07-27T20:52:41.045236",
     "exception": false,
     "start_time": "2025-07-27T20:52:41.034874",
     "status": "completed"
    },
    "tags": []
   },
   "source": [
    "## Drained_after_socializing"
   ]
  },
  {
   "cell_type": "code",
   "execution_count": 13,
   "id": "ce243201",
   "metadata": {
    "papermill": {
     "duration": 0.182958,
     "end_time": "2025-07-27T20:52:41.238946",
     "exception": false,
     "start_time": "2025-07-27T20:52:41.055988",
     "status": "completed"
    },
    "tags": []
   },
   "outputs": [
    {
     "data": {
      "text/plain": [
       "<Axes: xlabel='Personality', ylabel='count'>"
      ]
     },
     "execution_count": 13,
     "metadata": {},
     "output_type": "execute_result"
    },
    {
     "data": {
      "image/png": "[encoded data removed]",
      "text/plain": [
       "<Figure size 640x480 with 1 Axes>"
      ]
     },
     "metadata": {},
     "output_type": "display_data"
    }
   ],
   "source": [
    "sns.countplot(df_train, x=\"Personality\", hue=\"Drained_after_socializing\")"
   ]
  },
  {
   "cell_type": "code",
   "execution_count": 14,
   "id": "76ff958b",
   "metadata": {
    "papermill": {
     "duration": 0.019842,
     "end_time": "2025-07-27T20:52:41.269573",
     "exception": false,
     "start_time": "2025-07-27T20:52:41.249731",
     "status": "completed"
    },
    "tags": []
   },
   "outputs": [
    {
     "data": {
      "text/plain": [
       "Personality\n",
       "Introvert    3826\n",
       "Extrovert     236\n",
       "Name: count, dtype: int64"
      ]
     },
     "execution_count": 14,
     "metadata": {},
     "output_type": "execute_result"
    }
   ],
   "source": [
    "df_train[df_train['Drained_after_socializing'] == 'Yes']['Personality'].value_counts()"
   ]
  },
  {
   "cell_type": "markdown",
   "id": "7b093408",
   "metadata": {
    "papermill": {
     "duration": 0.011189,
     "end_time": "2025-07-27T20:52:41.291461",
     "exception": false,
     "start_time": "2025-07-27T20:52:41.280272",
     "status": "completed"
    },
    "tags": []
   },
   "source": [
    "## Conclusion"
   ]
  },
  {
   "cell_type": "markdown",
   "id": "fbf5ec96",
   "metadata": {
    "papermill": {
     "duration": 0.010459,
     "end_time": "2025-07-27T20:52:41.312548",
     "exception": false,
     "start_time": "2025-07-27T20:52:41.302089",
     "status": "completed"
    },
    "tags": []
   },
   "source": [
    "We can see that both \"Stage Fear\" and \"Drained After Socializing\" match our logic about a person's personality: introverts are more likely to have stage fear and be drained after socializing, whereas it's the opposite for extroverts."
   ]
  },
  {
   "cell_type": "markdown",
   "id": "10b15e75",
   "metadata": {
    "papermill": {
     "duration": 0.010421,
     "end_time": "2025-07-27T20:52:41.333571",
     "exception": false,
     "start_time": "2025-07-27T20:52:41.323150",
     "status": "completed"
    },
    "tags": []
   },
   "source": [
    "## Time_spent_Alone"
   ]
  },
  {
   "cell_type": "code",
   "execution_count": 15,
   "id": "06e90b53",
   "metadata": {
    "papermill": {
     "duration": 0.293462,
     "end_time": "2025-07-27T20:52:41.637690",
     "exception": false,
     "start_time": "2025-07-27T20:52:41.344228",
     "status": "completed"
    },
    "tags": []
   },
   "outputs": [
    {
     "data": {
      "text/plain": [
       "<Axes: xlabel='Personality', ylabel='count'>"
      ]
     },
     "execution_count": 15,
     "metadata": {},
     "output_type": "execute_result"
    },
    {
     "data": {
      "image/png": "[encoded data removed]",
      "text/plain": [
       "<Figure size 1000x500 with 1 Axes>"
      ]
     },
     "metadata": {},
     "output_type": "display_data"
    }
   ],
   "source": [
    "plt.figure(figsize=(10, 5))\n",
    "sns.countplot(df_train, x=\"Personality\", hue=\"Time_spent_Alone\")"
   ]
  },
  {
   "cell_type": "markdown",
   "id": "cb5f7e60",
   "metadata": {
    "papermill": {
     "duration": 0.01115,
     "end_time": "2025-07-27T20:52:41.661334",
     "exception": false,
     "start_time": "2025-07-27T20:52:41.650184",
     "status": "completed"
    },
    "tags": []
   },
   "source": [
    "We can see that introverts are more likely to spend more time alone than extroverts."
   ]
  },
  {
   "cell_type": "markdown",
   "id": "52a3e5fb",
   "metadata": {
    "papermill": {
     "duration": 0.011258,
     "end_time": "2025-07-27T20:52:41.683964",
     "exception": false,
     "start_time": "2025-07-27T20:52:41.672706",
     "status": "completed"
    },
    "tags": []
   },
   "source": [
    "## Social_event_attendance"
   ]
  },
  {
   "cell_type": "code",
   "execution_count": 16,
   "id": "648ce67b",
   "metadata": {
    "papermill": {
     "duration": 0.283735,
     "end_time": "2025-07-27T20:52:41.980913",
     "exception": false,
     "start_time": "2025-07-27T20:52:41.697178",
     "status": "completed"
    },
    "tags": []
   },
   "outputs": [
    {
     "data": {
      "text/plain": [
       "<Axes: xlabel='Personality', ylabel='count'>"
      ]
     },
     "execution_count": 16,
     "metadata": {},
     "output_type": "execute_result"
    },
    {
     "data": {
      "image/png": "[encoded data removed]",
      "text/plain": [
       "<Figure size 1000x500 with 1 Axes>"
      ]
     },
     "metadata": {},
     "output_type": "display_data"
    }
   ],
   "source": [
    "plt.figure(figsize=(10, 5))\n",
    "sns.countplot(df_train, x=\"Personality\", hue=\"Social_event_attendance\")"
   ]
  },
  {
   "cell_type": "markdown",
   "id": "b70eb801",
   "metadata": {
    "papermill": {
     "duration": 0.012392,
     "end_time": "2025-07-27T20:52:42.005511",
     "exception": false,
     "start_time": "2025-07-27T20:52:41.993119",
     "status": "completed"
    },
    "tags": []
   },
   "source": [
    "We can see that most of the introverts rated their social event attendance a low number whereas the extroverts rated it higher."
   ]
  },
  {
   "cell_type": "markdown",
   "id": "b9c8d5bc",
   "metadata": {
    "papermill": {
     "duration": 0.012508,
     "end_time": "2025-07-27T20:52:42.030691",
     "exception": false,
     "start_time": "2025-07-27T20:52:42.018183",
     "status": "completed"
    },
    "tags": []
   },
   "source": [
    "## Going_outside"
   ]
  },
  {
   "cell_type": "code",
   "execution_count": 17,
   "id": "b64b4fd2",
   "metadata": {
    "papermill": {
     "duration": 0.294698,
     "end_time": "2025-07-27T20:52:42.337985",
     "exception": false,
     "start_time": "2025-07-27T20:52:42.043287",
     "status": "completed"
    },
    "tags": []
   },
   "outputs": [
    {
     "data": {
      "text/plain": [
       "<Axes: xlabel='Personality', ylabel='count'>"
      ]
     },
     "execution_count": 17,
     "metadata": {},
     "output_type": "execute_result"
    },
    {
     "data": {
      "image/png": "[encoded data removed]",
      "text/plain": [
       "<Figure size 1000x500 with 1 Axes>"
      ]
     },
     "metadata": {},
     "output_type": "display_data"
    }
   ],
   "source": [
    "plt.figure(figsize=(10, 5))\n",
    "sns.countplot(df_train, x=\"Personality\", hue=\"Going_outside\")"
   ]
  },
  {
   "cell_type": "markdown",
   "id": "41139a99",
   "metadata": {
    "papermill": {
     "duration": 0.012932,
     "end_time": "2025-07-27T20:52:42.366299",
     "exception": false,
     "start_time": "2025-07-27T20:52:42.353367",
     "status": "completed"
    },
    "tags": []
   },
   "source": [
    "We can see that extroverts are more prawn to go outside than introverts since most of the extroverts rated going outside a number higher than 3 whereas introverts mostly rated it lower than 4."
   ]
  },
  {
   "cell_type": "markdown",
   "id": "fdebb2f5",
   "metadata": {
    "papermill": {
     "duration": 0.012855,
     "end_time": "2025-07-27T20:52:42.392794",
     "exception": false,
     "start_time": "2025-07-27T20:52:42.379939",
     "status": "completed"
    },
    "tags": []
   },
   "source": [
    "## Friends_circle_size"
   ]
  },
  {
   "cell_type": "code",
   "execution_count": 18,
   "id": "d3313619",
   "metadata": {
    "papermill": {
     "duration": 0.358286,
     "end_time": "2025-07-27T20:52:42.764005",
     "exception": false,
     "start_time": "2025-07-27T20:52:42.405719",
     "status": "completed"
    },
    "tags": []
   },
   "outputs": [
    {
     "data": {
      "text/plain": [
       "<Axes: xlabel='Personality', ylabel='count'>"
      ]
     },
     "execution_count": 18,
     "metadata": {},
     "output_type": "execute_result"
    },
    {
     "data": {
      "image/png": "[encoded data removed]",
      "text/plain": [
       "<Figure size 1000x500 with 1 Axes>"
      ]
     },
     "metadata": {},
     "output_type": "display_data"
    }
   ],
   "source": [
    "plt.figure(figsize=(10, 5))\n",
    "sns.countplot(df_train, x=\"Personality\", hue=\"Friends_circle_size\")"
   ]
  },
  {
   "cell_type": "markdown",
   "id": "ba3fe5cb",
   "metadata": {
    "papermill": {
     "duration": 0.018042,
     "end_time": "2025-07-27T20:52:42.807922",
     "exception": false,
     "start_time": "2025-07-27T20:52:42.789880",
     "status": "completed"
    },
    "tags": []
   },
   "source": [
    "We can conclude that an introvert is more likely to have a smaller group of friends than an extrovert."
   ]
  },
  {
   "cell_type": "markdown",
   "id": "f355774c",
   "metadata": {
    "papermill": {
     "duration": 0.013364,
     "end_time": "2025-07-27T20:52:42.834713",
     "exception": false,
     "start_time": "2025-07-27T20:52:42.821349",
     "status": "completed"
    },
    "tags": []
   },
   "source": [
    "## Post_frequency"
   ]
  },
  {
   "cell_type": "code",
   "execution_count": 19,
   "id": "26e32615",
   "metadata": {
    "papermill": {
     "duration": 0.345223,
     "end_time": "2025-07-27T20:52:43.193966",
     "exception": false,
     "start_time": "2025-07-27T20:52:42.848743",
     "status": "completed"
    },
    "tags": []
   },
   "outputs": [
    {
     "data": {
      "text/plain": [
       "<Axes: xlabel='Personality', ylabel='count'>"
      ]
     },
     "execution_count": 19,
     "metadata": {},
     "output_type": "execute_result"
    },
    {
     "data": {
      "image/png": "[encoded data removed]",
      "text/plain": [
       "<Figure size 1000x500 with 1 Axes>"
      ]
     },
     "metadata": {},
     "output_type": "display_data"
    }
   ],
   "source": [
    "plt.figure(figsize=(10, 5))\n",
    "sns.countplot(df_train, x=\"Personality\", hue=\"Post_frequency\")"
   ]
  },
  {
   "cell_type": "markdown",
   "id": "dc5b304c",
   "metadata": {
    "papermill": {
     "duration": 0.01375,
     "end_time": "2025-07-27T20:52:43.222925",
     "exception": false,
     "start_time": "2025-07-27T20:52:43.209175",
     "status": "completed"
    },
    "tags": []
   },
   "source": [
    "We can conlude that an extrovert will post more on social media than an introvert."
   ]
  },
  {
   "cell_type": "markdown",
   "id": "cbc659b5",
   "metadata": {
    "papermill": {
     "duration": 0.024758,
     "end_time": "2025-07-27T20:52:43.274493",
     "exception": false,
     "start_time": "2025-07-27T20:52:43.249735",
     "status": "completed"
    },
    "tags": []
   },
   "source": [
    "# Preprocess Data"
   ]
  },
  {
   "cell_type": "markdown",
   "id": "4a6f5a50",
   "metadata": {
    "papermill": {
     "duration": 0.014205,
     "end_time": "2025-07-27T20:52:43.318024",
     "exception": false,
     "start_time": "2025-07-27T20:52:43.303819",
     "status": "completed"
    },
    "tags": []
   },
   "source": [
    "## Stage_fear and Drained_after_socializing"
   ]
  },
  {
   "cell_type": "code",
   "execution_count": 20,
   "id": "e9eee791",
   "metadata": {
    "papermill": {
     "duration": 0.02756,
     "end_time": "2025-07-27T20:52:43.359561",
     "exception": false,
     "start_time": "2025-07-27T20:52:43.332001",
     "status": "completed"
    },
    "tags": []
   },
   "outputs": [],
   "source": [
    "for col in categorical_columns:\n",
    "    df_train[col] = df_train[col].map({\"No\": 0, \"Yes\": 1})"
   ]
  },
  {
   "cell_type": "markdown",
   "id": "2a3082ea",
   "metadata": {
    "papermill": {
     "duration": 0.013436,
     "end_time": "2025-07-27T20:52:43.394915",
     "exception": false,
     "start_time": "2025-07-27T20:52:43.381479",
     "status": "completed"
    },
    "tags": []
   },
   "source": [
    "## Target encoding"
   ]
  },
  {
   "cell_type": "code",
   "execution_count": 21,
   "id": "9f3ffc4a",
   "metadata": {
    "papermill": {
     "duration": 0.020514,
     "end_time": "2025-07-27T20:52:43.429545",
     "exception": false,
     "start_time": "2025-07-27T20:52:43.409031",
     "status": "completed"
    },
    "tags": []
   },
   "outputs": [],
   "source": [
    "df_train[\"Personality\"] = df_train[\"Personality\"].map({\"Introvert\": 1, \"Extrovert\": 0})"
   ]
  },
  {
   "cell_type": "markdown",
   "id": "589d6fc7",
   "metadata": {
    "papermill": {
     "duration": 0.013944,
     "end_time": "2025-07-27T20:52:43.457985",
     "exception": false,
     "start_time": "2025-07-27T20:52:43.444041",
     "status": "completed"
    },
    "tags": []
   },
   "source": [
    "# Train Model"
   ]
  },
  {
   "cell_type": "markdown",
   "id": "a0b3a5c4",
   "metadata": {
    "papermill": {
     "duration": 0.014366,
     "end_time": "2025-07-27T20:52:43.488056",
     "exception": false,
     "start_time": "2025-07-27T20:52:43.473690",
     "status": "completed"
    },
    "tags": []
   },
   "source": [
    "We will consider 8 models and compare each of their performance according to their accuracy:\n",
    "1. Logistic Regression\n",
    "2. SVM\n",
    "3. Random Forest\n",
    "4. KNN\n",
    "5. Naive Bayes\n",
    "6. MLP\n",
    "7. XGBoost\n",
    "8. LightGBM\n",
    "\n",
    "We'll put \"class_weight='balanced'\" for models that have this property to ensure that the model addresses the imbalance of the data."
   ]
  },
  {
   "cell_type": "code",
   "execution_count": 22,
   "id": "60577f52",
   "metadata": {
    "papermill": {
     "duration": 0.021098,
     "end_time": "2025-07-27T20:52:43.523249",
     "exception": false,
     "start_time": "2025-07-27T20:52:43.502151",
     "status": "completed"
    },
    "tags": []
   },
   "outputs": [],
   "source": [
    "X = df_train.drop(\"Personality\", axis=1)\n",
    "y = df_train[\"Personality\"]"
   ]
  },
  {
   "cell_type": "code",
   "execution_count": 23,
   "id": "82309ecb-1a0b-46e0-821e-f798fff33bf8",
   "metadata": {},
   "outputs": [
    {
     "data": {
      "text/html": [
       "<div>\n",
       "<style scoped>\n",
       "    .dataframe tbody tr th:only-of-type {\n",
       "        vertical-align: middle;\n",
       "    }\n",
       "\n",
       "    .dataframe tbody tr th {\n",
       "        vertical-align: top;\n",
       "    }\n",
       "\n",
       "    .dataframe thead th {\n",
       "        text-align: right;\n",
       "    }\n",
       "</style>\n",
       "<table border=\"1\" class=\"dataframe\">\n",
       "  <thead>\n",
       "    <tr style=\"text-align: right;\">\n",
       "      <th></th>\n",
       "      <th>Time_spent_Alone</th>\n",
       "      <th>Stage_fear</th>\n",
       "      <th>Social_event_attendance</th>\n",
       "      <th>Going_outside</th>\n",
       "      <th>Drained_after_socializing</th>\n",
       "      <th>Friends_circle_size</th>\n",
       "      <th>Post_frequency</th>\n",
       "    </tr>\n",
       "    <tr>\n",
       "      <th>id</th>\n",
       "      <th></th>\n",
       "      <th></th>\n",
       "      <th></th>\n",
       "      <th></th>\n",
       "      <th></th>\n",
       "      <th></th>\n",
       "      <th></th>\n",
       "    </tr>\n",
       "  </thead>\n",
       "  <tbody>\n",
       "    <tr>\n",
       "      <th>0</th>\n",
       "      <td>0</td>\n",
       "      <td>0</td>\n",
       "      <td>6</td>\n",
       "      <td>4</td>\n",
       "      <td>0</td>\n",
       "      <td>15</td>\n",
       "      <td>5</td>\n",
       "    </tr>\n",
       "    <tr>\n",
       "      <th>1</th>\n",
       "      <td>1</td>\n",
       "      <td>0</td>\n",
       "      <td>7</td>\n",
       "      <td>3</td>\n",
       "      <td>0</td>\n",
       "      <td>10</td>\n",
       "      <td>8</td>\n",
       "    </tr>\n",
       "    <tr>\n",
       "      <th>2</th>\n",
       "      <td>6</td>\n",
       "      <td>1</td>\n",
       "      <td>1</td>\n",
       "      <td>0</td>\n",
       "      <td>0</td>\n",
       "      <td>3</td>\n",
       "      <td>0</td>\n",
       "    </tr>\n",
       "    <tr>\n",
       "      <th>3</th>\n",
       "      <td>3</td>\n",
       "      <td>0</td>\n",
       "      <td>7</td>\n",
       "      <td>3</td>\n",
       "      <td>0</td>\n",
       "      <td>11</td>\n",
       "      <td>5</td>\n",
       "    </tr>\n",
       "    <tr>\n",
       "      <th>4</th>\n",
       "      <td>1</td>\n",
       "      <td>0</td>\n",
       "      <td>4</td>\n",
       "      <td>4</td>\n",
       "      <td>0</td>\n",
       "      <td>13</td>\n",
       "      <td>4</td>\n",
       "    </tr>\n",
       "  </tbody>\n",
       "</table>\n",
       "</div>"
      ],
      "text/plain": [
       "    Time_spent_Alone  Stage_fear  Social_event_attendance  Going_outside  \\\n",
       "id                                                                         \n",
       "0                  0           0                        6              4   \n",
       "1                  1           0                        7              3   \n",
       "2                  6           1                        1              0   \n",
       "3                  3           0                        7              3   \n",
       "4                  1           0                        4              4   \n",
       "\n",
       "    Drained_after_socializing  Friends_circle_size  Post_frequency  \n",
       "id                                                                  \n",
       "0                           0                   15               5  \n",
       "1                           0                   10               8  \n",
       "2                           0                    3               0  \n",
       "3                           0                   11               5  \n",
       "4                           0                   13               4  "
      ]
     },
     "execution_count": 23,
     "metadata": {},
     "output_type": "execute_result"
    }
   ],
   "source": [
    "X.head()"
   ]
  },
  {
   "cell_type": "code",
   "execution_count": 23,
   "id": "83e65004",
   "metadata": {
    "execution": {
     "iopub.execute_input": "2025-07-27T20:52:43.552273Z",
     "iopub.status.busy": "2025-07-27T20:52:43.552072Z",
     "iopub.status.idle": "2025-07-27T20:52:43.556888Z",
     "shell.execute_reply": "2025-07-27T20:52:43.556208Z"
    },
    "papermill": {
     "duration": 0.020518,
     "end_time": "2025-07-27T20:52:43.558056",
     "exception": false,
     "start_time": "2025-07-27T20:52:43.537538",
     "status": "completed"
    },
    "tags": []
   },
   "outputs": [],
   "source": [
    "# Define models\n",
    "models = {\n",
    "    \"Logistic Regression\": Pipeline([\n",
    "        (\"scaler\", StandardScaler()),\n",
    "        (\"model\", LogisticRegression(max_iter=1000, class_weight='balanced'))\n",
    "    ]),\n",
    "    \"SVM (RBF)\": Pipeline([\n",
    "        (\"scaler\", StandardScaler()),\n",
    "        (\"model\", SVC(kernel=\"rbf\", probability=True, class_weight='balanced'))\n",
    "    ]),\n",
    "    \"Random Forest\": RandomForestClassifier(class_weight='balanced'),\n",
    "    \"KNN\": Pipeline([\n",
    "        (\"scaler\", StandardScaler()),\n",
    "        (\"model\", KNeighborsClassifier())\n",
    "    ]),\n",
    "    \"Naive Bayes\": GaussianNB(),\n",
    "    \"MLP (Neural Net)\": Pipeline([\n",
    "        (\"scaler\", StandardScaler()),\n",
    "        (\"model\", MLPClassifier(max_iter=500))\n",
    "    ]),\n",
    "    \"XGBoost\": XGBClassifier(use_label_encoder=False, eval_metric='logloss'),\n",
    "    \"LightGBM\": LGBMClassifier(class_weight='balanced', objective='binary')\n",
    "}"
   ]
  },
  {
   "cell_type": "code",
   "execution_count": 24,
   "id": "25a938ea",
   "metadata": {
    "execution": {
     "iopub.execute_input": "2025-07-27T20:52:43.586298Z",
     "iopub.status.busy": "2025-07-27T20:52:43.586099Z",
     "iopub.status.idle": "2025-07-27T20:52:43.589510Z",
     "shell.execute_reply": "2025-07-27T20:52:43.588862Z"
    },
    "papermill": {
     "duration": 0.018697,
     "end_time": "2025-07-27T20:52:43.590514",
     "exception": false,
     "start_time": "2025-07-27T20:52:43.571817",
     "status": "completed"
    },
    "tags": []
   },
   "outputs": [],
   "source": [
    "# Perform cross-validation\n",
    "skf = StratifiedKFold(n_splits=5, shuffle=True, random_state=42)"
   ]
  },
  {
   "cell_type": "code",
   "execution_count": 25,
   "id": "81737192",
   "metadata": {
    "execution": {
     "iopub.execute_input": "2025-07-27T20:52:43.618812Z",
     "iopub.status.busy": "2025-07-27T20:52:43.618642Z",
     "iopub.status.idle": "2025-07-27T20:58:02.141467Z",
     "shell.execute_reply": "2025-07-27T20:58:02.140540Z"
    },
    "papermill": {
     "duration": 318.538457,
     "end_time": "2025-07-27T20:58:02.142809",
     "exception": false,
     "start_time": "2025-07-27T20:52:43.604352",
     "status": "completed"
    },
    "tags": []
   },
   "outputs": [
    {
     "name": "stdout",
     "output_type": "stream",
     "text": [
      "[LightGBM] [Info] Number of positive: 3860, number of negative: 10959\n",
      "[LightGBM] [Info] Auto-choosing row-wise multi-threading, the overhead of testing was 0.002377 seconds.\n",
      "You can set `force_row_wise=true` to remove the overhead.\n",
      "And if memory is not enough, you can set `force_col_wise=true`.\n",
      "[LightGBM] [Info] Total Bins 62\n",
      "[LightGBM] [Info] Number of data points in the train set: 14819, number of used features: 7\n",
      "[LightGBM] [Info] [binary:BoostFromScore]: pavg=0.500000 -> initscore=-0.000000\n",
      "[LightGBM] [Info] Start training from score -0.000000\n",
      "[LightGBM] [Info] Number of positive: 3860, number of negative: 10959\n",
      "[LightGBM] [Info] Auto-choosing row-wise multi-threading, the overhead of testing was 0.000474 seconds.\n",
      "You can set `force_row_wise=true` to remove the overhead.\n",
      "And if memory is not enough, you can set `force_col_wise=true`.\n",
      "[LightGBM] [Info] Total Bins 62\n",
      "[LightGBM] [Info] Number of data points in the train set: 14819, number of used features: 7\n",
      "[LightGBM] [Info] [binary:BoostFromScore]: pavg=0.500000 -> initscore=-0.000000\n",
      "[LightGBM] [Info] Start training from score -0.000000\n",
      "[LightGBM] [Info] Number of positive: 3860, number of negative: 10959\n",
      "[LightGBM] [Info] Auto-choosing row-wise multi-threading, the overhead of testing was 0.000523 seconds.\n",
      "You can set `force_row_wise=true` to remove the overhead.\n",
      "And if memory is not enough, you can set `force_col_wise=true`.\n",
      "[LightGBM] [Info] Total Bins 62\n",
      "[LightGBM] [Info] Number of data points in the train set: 14819, number of used features: 7\n",
      "[LightGBM] [Info] [binary:BoostFromScore]: pavg=0.500000 -> initscore=-0.000000\n",
      "[LightGBM] [Info] Start training from score -0.000000\n",
      "[LightGBM] [Info] Number of positive: 3860, number of negative: 10959\n",
      "[LightGBM] [Info] Auto-choosing row-wise multi-threading, the overhead of testing was 0.000465 seconds.\n",
      "You can set `force_row_wise=true` to remove the overhead.\n",
      "And if memory is not enough, you can set `force_col_wise=true`.\n",
      "[LightGBM] [Info] Total Bins 62\n",
      "[LightGBM] [Info] Number of data points in the train set: 14819, number of used features: 7\n",
      "[LightGBM] [Info] [binary:BoostFromScore]: pavg=0.500000 -> initscore=-0.000000\n",
      "[LightGBM] [Info] Start training from score -0.000000\n",
      "[LightGBM] [Info] Number of positive: 3860, number of negative: 10960\n",
      "[LightGBM] [Info] Auto-choosing row-wise multi-threading, the overhead of testing was 0.000613 seconds.\n",
      "You can set `force_row_wise=true` to remove the overhead.\n",
      "And if memory is not enough, you can set `force_col_wise=true`.\n",
      "[LightGBM] [Info] Total Bins 62\n",
      "[LightGBM] [Info] Number of data points in the train set: 14820, number of used features: 7\n",
      "[LightGBM] [Info] [binary:BoostFromScore]: pavg=0.500000 -> initscore=0.000000\n",
      "[LightGBM] [Info] Start training from score 0.000000\n",
      "[LightGBM] [Info] Number of positive: 3860, number of negative: 10959\n",
      "[LightGBM] [Info] Auto-choosing row-wise multi-threading, the overhead of testing was 0.000470 seconds.\n",
      "You can set `force_row_wise=true` to remove the overhead.\n",
      "And if memory is not enough, you can set `force_col_wise=true`.\n",
      "[LightGBM] [Info] Total Bins 62\n",
      "[LightGBM] [Info] Number of data points in the train set: 14819, number of used features: 7\n",
      "[LightGBM] [Info] [binary:BoostFromScore]: pavg=0.500000 -> initscore=-0.000000\n",
      "[LightGBM] [Info] Start training from score -0.000000\n",
      "[LightGBM] [Info] Number of positive: 3860, number of negative: 10959\n",
      "[LightGBM] [Info] Auto-choosing row-wise multi-threading, the overhead of testing was 0.000597 seconds.\n",
      "You can set `force_row_wise=true` to remove the overhead.\n",
      "And if memory is not enough, you can set `force_col_wise=true`.\n",
      "[LightGBM] [Info] Total Bins 62\n",
      "[LightGBM] [Info] Number of data points in the train set: 14819, number of used features: 7\n",
      "[LightGBM] [Info] [binary:BoostFromScore]: pavg=0.500000 -> initscore=-0.000000\n",
      "[LightGBM] [Info] Start training from score -0.000000\n",
      "[LightGBM] [Info] Number of positive: 3860, number of negative: 10959\n",
      "[LightGBM] [Info] Auto-choosing row-wise multi-threading, the overhead of testing was 0.000548 seconds.\n",
      "You can set `force_row_wise=true` to remove the overhead.\n",
      "And if memory is not enough, you can set `force_col_wise=true`.\n",
      "[LightGBM] [Info] Total Bins 62\n",
      "[LightGBM] [Info] Number of data points in the train set: 14819, number of used features: 7\n",
      "[LightGBM] [Info] [binary:BoostFromScore]: pavg=0.500000 -> initscore=-0.000000\n",
      "[LightGBM] [Info] Start training from score -0.000000\n",
      "[LightGBM] [Info] Number of positive: 3860, number of negative: 10959\n",
      "[LightGBM] [Info] Auto-choosing row-wise multi-threading, the overhead of testing was 0.000497 seconds.\n",
      "You can set `force_row_wise=true` to remove the overhead.\n",
      "And if memory is not enough, you can set `force_col_wise=true`.\n",
      "[LightGBM] [Info] Total Bins 62\n",
      "[LightGBM] [Info] Number of data points in the train set: 14819, number of used features: 7\n",
      "[LightGBM] [Info] [binary:BoostFromScore]: pavg=0.500000 -> initscore=-0.000000\n",
      "[LightGBM] [Info] Start training from score -0.000000\n",
      "[LightGBM] [Info] Number of positive: 3860, number of negative: 10960\n",
      "[LightGBM] [Info] Auto-choosing row-wise multi-threading, the overhead of testing was 0.000503 seconds.\n",
      "You can set `force_row_wise=true` to remove the overhead.\n",
      "And if memory is not enough, you can set `force_col_wise=true`.\n",
      "[LightGBM] [Info] Total Bins 62\n",
      "[LightGBM] [Info] Number of data points in the train set: 14820, number of used features: 7\n",
      "[LightGBM] [Info] [binary:BoostFromScore]: pavg=0.500000 -> initscore=0.000000\n",
      "[LightGBM] [Info] Start training from score 0.000000\n",
      "[LightGBM] [Info] Number of positive: 3860, number of negative: 10959\n",
      "[LightGBM] [Info] Auto-choosing row-wise multi-threading, the overhead of testing was 0.000566 seconds.\n",
      "You can set `force_row_wise=true` to remove the overhead.\n",
      "And if memory is not enough, you can set `force_col_wise=true`.\n",
      "[LightGBM] [Info] Total Bins 62\n",
      "[LightGBM] [Info] Number of data points in the train set: 14819, number of used features: 7\n",
      "[LightGBM] [Info] [binary:BoostFromScore]: pavg=0.500000 -> initscore=-0.000000\n",
      "[LightGBM] [Info] Start training from score -0.000000\n",
      "[LightGBM] [Info] Number of positive: 3860, number of negative: 10959\n",
      "[LightGBM] [Info] Auto-choosing row-wise multi-threading, the overhead of testing was 0.000485 seconds.\n",
      "You can set `force_row_wise=true` to remove the overhead.\n",
      "And if memory is not enough, you can set `force_col_wise=true`.\n",
      "[LightGBM] [Info] Total Bins 62\n",
      "[LightGBM] [Info] Number of data points in the train set: 14819, number of used features: 7\n",
      "[LightGBM] [Info] [binary:BoostFromScore]: pavg=0.500000 -> initscore=-0.000000\n",
      "[LightGBM] [Info] Start training from score -0.000000\n",
      "[LightGBM] [Info] Number of positive: 3860, number of negative: 10959\n",
      "[LightGBM] [Info] Auto-choosing row-wise multi-threading, the overhead of testing was 0.000657 seconds.\n",
      "You can set `force_row_wise=true` to remove the overhead.\n",
      "And if memory is not enough, you can set `force_col_wise=true`.\n",
      "[LightGBM] [Info] Total Bins 62\n",
      "[LightGBM] [Info] Number of data points in the train set: 14819, number of used features: 7\n",
      "[LightGBM] [Info] [binary:BoostFromScore]: pavg=0.500000 -> initscore=-0.000000\n",
      "[LightGBM] [Info] Start training from score -0.000000\n",
      "[LightGBM] [Info] Number of positive: 3860, number of negative: 10959\n",
      "[LightGBM] [Info] Auto-choosing row-wise multi-threading, the overhead of testing was 0.000510 seconds.\n",
      "You can set `force_row_wise=true` to remove the overhead.\n",
      "And if memory is not enough, you can set `force_col_wise=true`.\n",
      "[LightGBM] [Info] Total Bins 62\n",
      "[LightGBM] [Info] Number of data points in the train set: 14819, number of used features: 7\n",
      "[LightGBM] [Info] [binary:BoostFromScore]: pavg=0.500000 -> initscore=-0.000000\n",
      "[LightGBM] [Info] Start training from score -0.000000\n",
      "[LightGBM] [Info] Number of positive: 3860, number of negative: 10960\n",
      "[LightGBM] [Info] Auto-choosing row-wise multi-threading, the overhead of testing was 0.000538 seconds.\n",
      "You can set `force_row_wise=true` to remove the overhead.\n",
      "And if memory is not enough, you can set `force_col_wise=true`.\n",
      "[LightGBM] [Info] Total Bins 62\n",
      "[LightGBM] [Info] Number of data points in the train set: 14820, number of used features: 7\n",
      "[LightGBM] [Info] [binary:BoostFromScore]: pavg=0.500000 -> initscore=0.000000\n",
      "[LightGBM] [Info] Start training from score 0.000000\n"
     ]
    }
   ],
   "source": [
    "results = []\n",
    "\n",
    "for name, model in models.items():\n",
    "    acc = cross_val_score(model, X, y, cv=skf, scoring=\"accuracy\").mean()\n",
    "    f1 = cross_val_score(model, X, y, cv=skf, scoring=\"f1\").mean()\n",
    "    auc = cross_val_score(model, X, y, cv=skf, scoring=\"roc_auc\").mean()\n",
    "\n",
    "    results.append({\n",
    "        \"Model\": name,\n",
    "        \"Accuracy\": round(acc, 3),\n",
    "        \"F1 Score\": round(f1, 3),\n",
    "        \"ROC AUC\": round(auc, 3)\n",
    "    })"
   ]
  },
  {
   "cell_type": "code",
   "execution_count": 26,
   "id": "adb96d7f",
   "metadata": {
    "execution": {
     "iopub.execute_input": "2025-07-27T20:58:02.176688Z",
     "iopub.status.busy": "2025-07-27T20:58:02.176465Z",
     "iopub.status.idle": "2025-07-27T20:58:02.183872Z",
     "shell.execute_reply": "2025-07-27T20:58:02.183043Z"
    },
    "papermill": {
     "duration": 0.025504,
     "end_time": "2025-07-27T20:58:02.185130",
     "exception": false,
     "start_time": "2025-07-27T20:58:02.159626",
     "status": "completed"
    },
    "tags": []
   },
   "outputs": [
    {
     "name": "stdout",
     "output_type": "stream",
     "text": [
      "                 Model  Accuracy  F1 Score  ROC AUC\n",
      "0  Logistic Regression     0.969     0.940    0.958\n",
      "1            SVM (RBF)     0.969     0.940    0.966\n",
      "3                  KNN     0.969     0.940    0.960\n",
      "5     MLP (Neural Net)     0.969     0.940    0.968\n",
      "6              XGBoost     0.968     0.938    0.965\n",
      "4          Naive Bayes     0.968     0.939    0.957\n",
      "7             LightGBM     0.968     0.939    0.967\n",
      "2        Random Forest     0.963     0.929    0.964\n"
     ]
    }
   ],
   "source": [
    "# Display results\n",
    "results_df = pd.DataFrame(results).sort_values(by=\"Accuracy\", ascending=False)\n",
    "print(results_df)"
   ]
  },
  {
   "cell_type": "markdown",
   "id": "9fd74731",
   "metadata": {
    "papermill": {
     "duration": 0.015895,
     "end_time": "2025-07-27T20:58:02.217088",
     "exception": false,
     "start_time": "2025-07-27T20:58:02.201193",
     "status": "completed"
    },
    "tags": []
   },
   "source": [
    "We can see that the best models according to accuracy and f1 score are KNN, XGBoost and LightGBM,\n",
    "while LightGBM has the best ROC AUC score, and so we'll choose the LightGBM model."
   ]
  },
  {
   "cell_type": "markdown",
   "id": "5bfe0463",
   "metadata": {
    "papermill": {
     "duration": 0.015155,
     "end_time": "2025-07-27T20:58:02.248371",
     "exception": false,
     "start_time": "2025-07-27T20:58:02.233216",
     "status": "completed"
    },
    "tags": []
   },
   "source": [
    "# Hyperparameter Optimization"
   ]
  },
  {
   "cell_type": "code",
   "execution_count": 27,
   "id": "e8941013",
   "metadata": {
    "execution": {
     "iopub.execute_input": "2025-07-27T20:58:02.279456Z",
     "iopub.status.busy": "2025-07-27T20:58:02.279261Z",
     "iopub.status.idle": "2025-07-27T20:58:02.284613Z",
     "shell.execute_reply": "2025-07-27T20:58:02.284090Z"
    },
    "papermill": {
     "duration": 0.022083,
     "end_time": "2025-07-27T20:58:02.285580",
     "exception": false,
     "start_time": "2025-07-27T20:58:02.263497",
     "status": "completed"
    },
    "tags": []
   },
   "outputs": [],
   "source": [
    "# Hyperparameter optimization using optuna\n",
    "def objective(trial):\n",
    "    params = {\n",
    "        \"n_estimators\": trial.suggest_int(\"n_estimators\", 50, 300),\n",
    "        \"learning_rate\": trial.suggest_float(\"learning_rate\", 1e-3, 0.3, log=True),\n",
    "        \"num_leaves\": trial.suggest_int(\"num_leaves\", 20, 150),\n",
    "        \"max_depth\": trial.suggest_int(\"max_depth\", 3, 12),\n",
    "        \"min_child_samples\": trial.suggest_int(\"min_child_samples\", 5, 100),\n",
    "        \"subsample\": trial.suggest_float(\"subsample\", 0.5, 1.0),\n",
    "        \"colsample_bytree\": trial.suggest_float(\"colsample_bytree\", 0.5, 1.0),\n",
    "        \"reg_alpha\": trial.suggest_float(\"reg_alpha\", 0.0, 5.0),\n",
    "        \"reg_lambda\": trial.suggest_float(\"reg_lambda\", 0.0, 5.0),\n",
    "        \"random_state\": 42,\n",
    "        \"n_jobs\": -1,\n",
    "        \"class_weight\":'balanced',\n",
    "        \"objective\":'binary' \n",
    "    }\n",
    "\n",
    "    model = LGBMClassifier(**params, verbosity=-1)\n",
    "    cv = StratifiedKFold(n_splits=5, shuffle=True, random_state=42)\n",
    "    acc = cross_val_score(model, X, y, cv=cv, scoring=\"accuracy\").mean()\n",
    "    return acc"
   ]
  },
  {
   "cell_type": "code",
   "execution_count": 28,
   "id": "05ac3d03",
   "metadata": {
    "execution": {
     "iopub.execute_input": "2025-07-27T20:58:02.315173Z",
     "iopub.status.busy": "2025-07-27T20:58:02.314770Z",
     "iopub.status.idle": "2025-07-27T20:59:00.009731Z",
     "shell.execute_reply": "2025-07-27T20:59:00.009131Z"
    },
    "papermill": {
     "duration": 57.712781,
     "end_time": "2025-07-27T20:59:00.012789",
     "exception": false,
     "start_time": "2025-07-27T20:58:02.300008",
     "status": "completed"
    },
    "tags": []
   },
   "outputs": [
    {
     "name": "stderr",
     "output_type": "stream",
     "text": [
      "[I 2025-07-27 20:58:02,316] A new study created in memory with name: no-name-04a20242-2f8a-42ae-a937-ebf84c9cea2c\n",
      "[I 2025-07-27 20:58:03,911] Trial 0 finished with value: 0.96847345977504 and parameters: {'n_estimators': 258, 'learning_rate': 0.040290344647874, 'num_leaves': 60, 'max_depth': 7, 'min_child_samples': 16, 'subsample': 0.6750946784537912, 'colsample_bytree': 0.5234769404254697, 'reg_alpha': 2.538525051967315, 'reg_lambda': 3.9198559443145875}. Best is trial 0 with value: 0.96847345977504.\n",
      "[I 2025-07-27 20:58:04,809] Trial 1 finished with value: 0.9674477750282001 and parameters: {'n_estimators': 278, 'learning_rate': 0.24663752005221115, 'num_leaves': 46, 'max_depth': 7, 'min_child_samples': 34, 'subsample': 0.8108520022771883, 'colsample_bytree': 0.7428121615321567, 'reg_alpha': 1.3080843341244437, 'reg_lambda': 0.08155801538253071}. Best is trial 0 with value: 0.96847345977504.\n",
      "[I 2025-07-27 20:58:05,530] Trial 2 finished with value: 0.9680415817746727 and parameters: {'n_estimators': 209, 'learning_rate': 0.08054111647674983, 'num_leaves': 93, 'max_depth': 4, 'min_child_samples': 46, 'subsample': 0.8670326695729009, 'colsample_bytree': 0.9527582375957397, 'reg_alpha': 3.3442181911142237, 'reg_lambda': 2.1090188684345135}. Best is trial 0 with value: 0.96847345977504.\n",
      "[I 2025-07-27 20:58:06,448] Trial 3 finished with value: 0.9665840481749314 and parameters: {'n_estimators': 246, 'learning_rate': 0.0029853241371017125, 'num_leaves': 67, 'max_depth': 11, 'min_child_samples': 83, 'subsample': 0.913289510277812, 'colsample_bytree': 0.9592077186375595, 'reg_alpha': 0.25523443786820477, 'reg_lambda': 2.1776431284900495}. Best is trial 0 with value: 0.96847345977504.\n",
      "[I 2025-07-27 20:58:07,336] Trial 4 finished with value: 0.9675017852822787 and parameters: {'n_estimators': 206, 'learning_rate': 0.009673628617894526, 'num_leaves': 37, 'max_depth': 12, 'min_child_samples': 38, 'subsample': 0.9734445389764539, 'colsample_bytree': 0.9580060014594415, 'reg_alpha': 1.9763488569164727, 'reg_lambda': 3.4003891658960246}. Best is trial 0 with value: 0.96847345977504.\n",
      "[I 2025-07-27 20:58:08,246] Trial 5 finished with value: 0.9685274700291183 and parameters: {'n_estimators': 206, 'learning_rate': 0.016836325949789, 'num_leaves': 132, 'max_depth': 7, 'min_child_samples': 32, 'subsample': 0.8918946291731945, 'colsample_bytree': 0.5239152462783087, 'reg_alpha': 3.6482832884768754, 'reg_lambda': 3.5315295849733905}. Best is trial 5 with value: 0.9685274700291183.\n",
      "[I 2025-07-27 20:58:09,346] Trial 6 finished with value: 0.9679336487089131 and parameters: {'n_estimators': 238, 'learning_rate': 0.08212649248715953, 'num_leaves': 36, 'max_depth': 12, 'min_child_samples': 18, 'subsample': 0.6376166764262466, 'colsample_bytree': 0.6748880166010531, 'reg_alpha': 3.0234931097479594, 'reg_lambda': 0.4133768632034768}. Best is trial 5 with value: 0.9685274700291183.\n",
      "[I 2025-07-27 20:58:09,978] Trial 7 finished with value: 0.9685274700291184 and parameters: {'n_estimators': 167, 'learning_rate': 0.055788654943402696, 'num_leaves': 109, 'max_depth': 4, 'min_child_samples': 92, 'subsample': 0.9608442085391202, 'colsample_bytree': 0.8708729147309379, 'reg_alpha': 3.184435294291321, 'reg_lambda': 0.34824565911422134}. Best is trial 7 with value: 0.9685274700291184.\n",
      "[I 2025-07-27 20:58:10,734] Trial 8 finished with value: 0.9678796821760333 and parameters: {'n_estimators': 187, 'learning_rate': 0.0012455440785087127, 'num_leaves': 25, 'max_depth': 12, 'min_child_samples': 22, 'subsample': 0.8763476529988652, 'colsample_bytree': 0.7003041192542745, 'reg_alpha': 2.0211192697560767, 'reg_lambda': 0.24149189035559904}. Best is trial 7 with value: 0.9685274700291184.\n",
      "[I 2025-07-27 20:58:11,136] Trial 9 finished with value: 0.9679876006680599 and parameters: {'n_estimators': 80, 'learning_rate': 0.021938969581673084, 'num_leaves': 150, 'max_depth': 8, 'min_child_samples': 64, 'subsample': 0.9897469721285242, 'colsample_bytree': 0.6870429027097806, 'reg_alpha': 1.461680203062234, 'reg_lambda': 0.9976175985658131}. Best is trial 7 with value: 0.9685274700291184.\n",
      "[I 2025-07-27 20:58:11,530] Trial 10 finished with value: 0.9679876443892586 and parameters: {'n_estimators': 120, 'learning_rate': 0.18434175055798868, 'num_leaves': 102, 'max_depth': 3, 'min_child_samples': 97, 'subsample': 0.531328997227926, 'colsample_bytree': 0.8427879866456739, 'reg_alpha': 4.601644722951679, 'reg_lambda': 4.978951952943852}. Best is trial 7 with value: 0.9685274700291184.\n",
      "[I 2025-07-27 20:58:12,173] Trial 11 finished with value: 0.9682035688157093 and parameters: {'n_estimators': 156, 'learning_rate': 0.009684280370873983, 'num_leaves': 126, 'max_depth': 5, 'min_child_samples': 63, 'subsample': 0.7679189047531284, 'colsample_bytree': 0.508257354030007, 'reg_alpha': 4.192520996929219, 'reg_lambda': 3.364639461215674}. Best is trial 7 with value: 0.9685274700291184.\n",
      "[I 2025-07-27 20:58:12,863] Trial 12 finished with value: 0.9679336487089131 and parameters: {'n_estimators': 149, 'learning_rate': 0.023909162538854174, 'num_leaves': 118, 'max_depth': 9, 'min_child_samples': 77, 'subsample': 0.9217845803499196, 'colsample_bytree': 0.8565429308916068, 'reg_alpha': 3.913805227598947, 'reg_lambda': 1.6662727482353095}. Best is trial 7 with value: 0.9685274700291184.\n",
      "[I 2025-07-27 20:58:13,414] Trial 13 finished with value: 0.9684195223896259 and parameters: {'n_estimators': 113, 'learning_rate': 0.0065208537747824084, 'num_leaves': 135, 'max_depth': 5, 'min_child_samples': 96, 'subsample': 0.8150735160951244, 'colsample_bytree': 0.582222442850585, 'reg_alpha': 4.980144182874184, 'reg_lambda': 2.8905459807184997}. Best is trial 7 with value: 0.9685274700291184.\n",
      "[I 2025-07-27 20:58:14,790] Trial 14 finished with value: 0.9679876298155257 and parameters: {'n_estimators': 296, 'learning_rate': 0.057301572946425926, 'num_leaves': 108, 'max_depth': 6, 'min_child_samples': 7, 'subsample': 0.9518713273165211, 'colsample_bytree': 0.8376804712052496, 'reg_alpha': 3.647164917761798, 'reg_lambda': 4.214063207821427}. Best is trial 7 with value: 0.9685274700291184.\n",
      "[I 2025-07-27 20:58:16,007] Trial 15 finished with value: 0.9685274700291183 and parameters: {'n_estimators': 191, 'learning_rate': 0.03360772867333023, 'num_leaves': 75, 'max_depth': 9, 'min_child_samples': 59, 'subsample': 0.8456941172896686, 'colsample_bytree': 0.6085512224637529, 'reg_alpha': 2.8569551550035577, 'reg_lambda': 1.4541326686126765}. Best is trial 7 with value: 0.9685274700291184.\n",
      "[I 2025-07-27 20:58:16,303] Trial 16 finished with value: 0.9663681383222137 and parameters: {'n_estimators': 58, 'learning_rate': 0.012229141178867952, 'num_leaves': 149, 'max_depth': 3, 'min_child_samples': 33, 'subsample': 0.7166286019151031, 'colsample_bytree': 0.7909422268879802, 'reg_alpha': 4.203523248277715, 'reg_lambda': 2.7147468953455594}. Best is trial 7 with value: 0.9685274700291184.\n",
      "[I 2025-07-27 20:58:18,258] Trial 17 finished with value: 0.9683115310289349 and parameters: {'n_estimators': 158, 'learning_rate': 0.1300828537109138, 'num_leaves': 132, 'max_depth': 5, 'min_child_samples': 49, 'subsample': 0.9998354383441307, 'colsample_bytree': 0.9102504257533002, 'reg_alpha': 3.424723004962368, 'reg_lambda': 4.76381475559652}. Best is trial 7 with value: 0.9685274700291184.\n",
      "[I 2025-07-27 20:58:19,089] Trial 18 finished with value: 0.9683655267092803 and parameters: {'n_estimators': 228, 'learning_rate': 0.0053639410225221115, 'num_leaves': 111, 'max_depth': 10, 'min_child_samples': 79, 'subsample': 0.9202431489557573, 'colsample_bytree': 0.7742770189043828, 'reg_alpha': 2.343820454171393, 'reg_lambda': 0.9058580999601382}. Best is trial 7 with value: 0.9685274700291184.\n",
      "[I 2025-07-27 20:58:19,649] Trial 19 finished with value: 0.9683655267092803 and parameters: {'n_estimators': 133, 'learning_rate': 0.0030279888905974045, 'num_leaves': 90, 'max_depth': 6, 'min_child_samples': 72, 'subsample': 0.7670749884599555, 'colsample_bytree': 0.6151947106499092, 'reg_alpha': 0.22312982950631843, 'reg_lambda': 3.3291528561740327}. Best is trial 7 with value: 0.9685274700291184.\n",
      "[I 2025-07-27 20:58:20,334] Trial 20 finished with value: 0.9682575499223219 and parameters: {'n_estimators': 174, 'learning_rate': 0.04320843949621607, 'num_leaves': 123, 'max_depth': 4, 'min_child_samples': 39, 'subsample': 0.5625204607767498, 'colsample_bytree': 0.894789583589537, 'reg_alpha': 3.0780995122180586, 'reg_lambda': 4.185008324504109}. Best is trial 7 with value: 0.9685274700291184.\n",
      "[I 2025-07-27 20:58:21,415] Trial 21 finished with value: 0.9684195078158929 and parameters: {'n_estimators': 194, 'learning_rate': 0.028566643720413756, 'num_leaves': 72, 'max_depth': 9, 'min_child_samples': 61, 'subsample': 0.8376225592986164, 'colsample_bytree': 0.5729648506788458, 'reg_alpha': 2.8878908925492346, 'reg_lambda': 1.4129545640985015}. Best is trial 7 with value: 0.9685274700291184.\n",
      "[I 2025-07-27 20:58:22,405] Trial 22 finished with value: 0.9685274700291183 and parameters: {'n_estimators': 216, 'learning_rate': 0.016127720737374143, 'num_leaves': 81, 'max_depth': 8, 'min_child_samples': 88, 'subsample': 0.8770186690164854, 'colsample_bytree': 0.6353702073921982, 'reg_alpha': 2.646649447038974, 'reg_lambda': 0.8161006768390249}. Best is trial 7 with value: 0.9685274700291184.\n",
      "[I 2025-07-27 20:58:23,519] Trial 23 finished with value: 0.9683115456026676 and parameters: {'n_estimators': 175, 'learning_rate': 0.08583647670877433, 'num_leaves': 97, 'max_depth': 10, 'min_child_samples': 55, 'subsample': 0.940256138495207, 'colsample_bytree': 0.5665653412581169, 'reg_alpha': 3.743056535335534, 'reg_lambda': 1.359848198881709}. Best is trial 7 with value: 0.9685274700291184.\n",
      "[I 2025-07-27 20:58:24,620] Trial 24 finished with value: 0.9686894133489563 and parameters: {'n_estimators': 181, 'learning_rate': 0.038099687186893334, 'num_leaves': 80, 'max_depth': 9, 'min_child_samples': 28, 'subsample': 0.8578050266925555, 'colsample_bytree': 0.5366587253794737, 'reg_alpha': 3.269238332213025, 'reg_lambda': 2.341665794508301}. Best is trial 24 with value: 0.9686894133489563.\n",
      "[I 2025-07-27 20:58:25,258] Trial 25 finished with value: 0.9683655121355474 and parameters: {'n_estimators': 138, 'learning_rate': 0.016083625699665066, 'num_leaves': 138, 'max_depth': 6, 'min_child_samples': 28, 'subsample': 0.883883894395116, 'colsample_bytree': 0.5403191594051191, 'reg_alpha': 4.1809996800277665, 'reg_lambda': 2.2554216099375757}. Best is trial 24 with value: 0.9686894133489563.\n",
      "[I 2025-07-27 20:58:26,375] Trial 26 finished with value: 0.9683115164552019 and parameters: {'n_estimators': 168, 'learning_rate': 0.05638181174497912, 'num_leaves': 113, 'max_depth': 10, 'min_child_samples': 26, 'subsample': 0.8055557082261208, 'colsample_bytree': 0.6443623427772757, 'reg_alpha': 3.333854448868804, 'reg_lambda': 3.0359876919187}. Best is trial 24 with value: 0.9686894133489563.\n",
      "[I 2025-07-27 20:58:26,987] Trial 27 finished with value: 0.9683115310289345 and parameters: {'n_estimators': 105, 'learning_rate': 0.13914148954515754, 'num_leaves': 55, 'max_depth': 8, 'min_child_samples': 7, 'subsample': 0.9054183413937487, 'colsample_bytree': 0.500747335003121, 'reg_alpha': 4.64334193762399, 'reg_lambda': 3.7958015943182866}. Best is trial 24 with value: 0.9686894133489563.\n",
      "[I 2025-07-27 20:58:28,695] Trial 28 finished with value: 0.9677177097087295 and parameters: {'n_estimators': 261, 'learning_rate': 0.05960658580122369, 'num_leaves': 83, 'max_depth': 7, 'min_child_samples': 43, 'subsample': 0.9504062295578415, 'colsample_bytree': 0.9974970331298996, 'reg_alpha': 2.1611751467850113, 'reg_lambda': 1.8522777071495635}. Best is trial 24 with value: 0.9686894133489563.\n",
      "[I 2025-07-27 20:58:30,109] Trial 29 finished with value: 0.9685814511357311 and parameters: {'n_estimators': 221, 'learning_rate': 0.037778182321220925, 'num_leaves': 102, 'max_depth': 7, 'min_child_samples': 15, 'subsample': 0.6888967296037727, 'colsample_bytree': 0.5409300029781825, 'reg_alpha': 1.683180541943937, 'reg_lambda': 2.541696940007838}. Best is trial 24 with value: 0.9686894133489563.\n",
      "[I 2025-07-27 20:58:32,079] Trial 30 finished with value: 0.9679876298155257 and parameters: {'n_estimators': 224, 'learning_rate': 0.03999153417073231, 'num_leaves': 101, 'max_depth': 9, 'min_child_samples': 13, 'subsample': 0.6539293729434441, 'colsample_bytree': 0.7999389963721457, 'reg_alpha': 1.5627776486631475, 'reg_lambda': 2.453803193444482}. Best is trial 24 with value: 0.9686894133489563.\n",
      "[I 2025-07-27 20:58:33,357] Trial 31 finished with value: 0.9685814511357311 and parameters: {'n_estimators': 197, 'learning_rate': 0.021385586499911936, 'num_leaves': 105, 'max_depth': 7, 'min_child_samples': 15, 'subsample': 0.7185067692023324, 'colsample_bytree': 0.5437823767749315, 'reg_alpha': 0.8089310983074836, 'reg_lambda': 3.82843294813213}. Best is trial 24 with value: 0.9686894133489563.\n",
      "[I 2025-07-27 20:58:34,928] Trial 32 finished with value: 0.9685814365619982 and parameters: {'n_estimators': 255, 'learning_rate': 0.029030007787685178, 'num_leaves': 88, 'max_depth': 6, 'min_child_samples': 15, 'subsample': 0.6893435353361586, 'colsample_bytree': 0.5505028679633047, 'reg_alpha': 1.0060298963231635, 'reg_lambda': 4.33225491709993}. Best is trial 24 with value: 0.9686894133489563.\n",
      "[I 2025-07-27 20:58:36,677] Trial 33 finished with value: 0.9685814365619982 and parameters: {'n_estimators': 262, 'learning_rate': 0.025567874796712808, 'num_leaves': 89, 'max_depth': 7, 'min_child_samples': 14, 'subsample': 0.612992644464256, 'colsample_bytree': 0.5463779517288273, 'reg_alpha': 0.817394987434614, 'reg_lambda': 4.432865289745686}. Best is trial 24 with value: 0.9686894133489563.\n",
      "[I 2025-07-27 20:58:38,414] Trial 34 finished with value: 0.9683654975618146 and parameters: {'n_estimators': 279, 'learning_rate': 0.03771057339302589, 'num_leaves': 61, 'max_depth': 6, 'min_child_samples': 21, 'subsample': 0.7035115282994593, 'colsample_bytree': 0.605940591710129, 'reg_alpha': 0.8579259772001904, 'reg_lambda': 3.788107633166419}. Best is trial 24 with value: 0.9686894133489563.\n",
      "[I 2025-07-27 20:58:40,317] Trial 35 finished with value: 0.9682575207748563 and parameters: {'n_estimators': 242, 'learning_rate': 0.11254482471318371, 'num_leaves': 81, 'max_depth': 7, 'min_child_samples': 5, 'subsample': 0.7090960453461148, 'colsample_bytree': 0.5447091235043513, 'reg_alpha': 0.9777821545280645, 'reg_lambda': 4.623992693794795}. Best is trial 24 with value: 0.9686894133489563.\n",
      "[I 2025-07-27 20:58:41,396] Trial 36 finished with value: 0.9682035542419765 and parameters: {'n_estimators': 202, 'learning_rate': 0.011109873670999278, 'num_leaves': 95, 'max_depth': 8, 'min_child_samples': 13, 'subsample': 0.6761062027100122, 'colsample_bytree': 0.5796824103761042, 'reg_alpha': 0.5241480999757091, 'reg_lambda': 4.12212922840745}. Best is trial 24 with value: 0.9686894133489563.\n",
      "[I 2025-07-27 20:58:42,212] Trial 37 finished with value: 0.9677177097087293 and parameters: {'n_estimators': 253, 'learning_rate': 0.2780766028901663, 'num_leaves': 61, 'max_depth': 6, 'min_child_samples': 27, 'subsample': 0.6092788790061235, 'colsample_bytree': 0.7204975334271745, 'reg_alpha': 1.784870739045458, 'reg_lambda': 3.052711209096548}. Best is trial 24 with value: 0.9686894133489563.\n",
      "[I 2025-07-27 20:58:44,436] Trial 38 finished with value: 0.9682035688157093 and parameters: {'n_estimators': 276, 'learning_rate': 0.020350788856642172, 'num_leaves': 70, 'max_depth': 11, 'min_child_samples': 19, 'subsample': 0.7405100696711533, 'colsample_bytree': 0.6464612828919701, 'reg_alpha': 1.0428618051572784, 'reg_lambda': 2.5764544473439006}. Best is trial 24 with value: 0.9686894133489563.\n",
      "[I 2025-07-27 20:58:45,556] Trial 39 finished with value: 0.9682575353485892 and parameters: {'n_estimators': 229, 'learning_rate': 0.006635430067004594, 'num_leaves': 49, 'max_depth': 8, 'min_child_samples': 11, 'subsample': 0.669596048501308, 'colsample_bytree': 0.5282513641323127, 'reg_alpha': 1.2338348771602683, 'reg_lambda': 1.9539855114814317}. Best is trial 24 with value: 0.9686894133489563.\n",
      "[I 2025-07-27 20:58:46,623] Trial 40 finished with value: 0.9685274700291184 and parameters: {'n_estimators': 215, 'learning_rate': 0.013528091954968346, 'num_leaves': 105, 'max_depth': 7, 'min_child_samples': 37, 'subsample': 0.7487091059107938, 'colsample_bytree': 0.5593557073114269, 'reg_alpha': 0.5462809658082932, 'reg_lambda': 3.525084185450664}. Best is trial 24 with value: 0.9686894133489563.\n",
      "[I 2025-07-27 20:58:48,317] Trial 41 finished with value: 0.9685274554553853 and parameters: {'n_estimators': 269, 'learning_rate': 0.02415644816367469, 'num_leaves': 90, 'max_depth': 7, 'min_child_samples': 14, 'subsample': 0.615290590294005, 'colsample_bytree': 0.5236981268118518, 'reg_alpha': 0.6006059134944471, 'reg_lambda': 4.4696998532087395}. Best is trial 24 with value: 0.9686894133489563.\n",
      "[I 2025-07-27 20:58:51,397] Trial 42 finished with value: 0.9684194932421601 and parameters: {'n_estimators': 299, 'learning_rate': 0.032703698192761234, 'num_leaves': 90, 'max_depth': 6, 'min_child_samples': 24, 'subsample': 0.5889631321757305, 'colsample_bytree': 0.5497652236551012, 'reg_alpha': 0.10318554266012414, 'reg_lambda': 4.410085201682968}. Best is trial 24 with value: 0.9686894133489563.\n",
      "[I 2025-07-27 20:58:53,089] Trial 43 finished with value: 0.9683655121355474 and parameters: {'n_estimators': 238, 'learning_rate': 0.04677083919025831, 'num_leaves': 98, 'max_depth': 7, 'min_child_samples': 17, 'subsample': 0.6848208554717982, 'colsample_bytree': 0.5940009668676435, 'reg_alpha': 1.653089658290375, 'reg_lambda': 4.035456345620431}. Best is trial 24 with value: 0.9686894133489563.\n",
      "[I 2025-07-27 20:58:54,360] Trial 44 finished with value: 0.9686354176686109 and parameters: {'n_estimators': 251, 'learning_rate': 0.028191456221760083, 'num_leaves': 75, 'max_depth': 5, 'min_child_samples': 10, 'subsample': 0.6489711960889218, 'colsample_bytree': 0.5008116397119446, 'reg_alpha': 1.2760928082570275, 'reg_lambda': 4.87603646549793}. Best is trial 24 with value: 0.9686894133489563.\n",
      "[I 2025-07-27 20:58:55,410] Trial 45 finished with value: 0.9684195078158929 and parameters: {'n_estimators': 186, 'learning_rate': 0.0667345698791382, 'num_leaves': 75, 'max_depth': 5, 'min_child_samples': 10, 'subsample': 0.6512940825927124, 'colsample_bytree': 0.5075374976595579, 'reg_alpha': 1.303225820168822, 'reg_lambda': 4.731999583807431}. Best is trial 24 with value: 0.9686894133489563.\n",
      "[I 2025-07-27 20:58:56,528] Trial 46 finished with value: 0.9680955920287511 and parameters: {'n_estimators': 248, 'learning_rate': 0.07937643593984335, 'num_leaves': 66, 'max_depth': 4, 'min_child_samples': 29, 'subsample': 0.7870810807370525, 'colsample_bytree': 0.5006265813396948, 'reg_alpha': 1.874258672072839, 'reg_lambda': 4.980297939792865}. Best is trial 24 with value: 0.9686894133489563.\n",
      "[I 2025-07-27 20:58:57,481] Trial 47 finished with value: 0.9684734743487727 and parameters: {'n_estimators': 202, 'learning_rate': 0.018173346158330484, 'num_leaves': 78, 'max_depth': 5, 'min_child_samples': 20, 'subsample': 0.7225104837686966, 'colsample_bytree': 0.5246065585423876, 'reg_alpha': 1.187493976109101, 'reg_lambda': 2.2750950802842613}. Best is trial 24 with value: 0.9686894133489563.\n",
      "[I 2025-07-27 20:58:59,074] Trial 48 finished with value: 0.9683655121355474 and parameters: {'n_estimators': 288, 'learning_rate': 0.03198478464942377, 'num_leaves': 117, 'max_depth': 6, 'min_child_samples': 8, 'subsample': 0.6342923277513407, 'colsample_bytree': 0.6760839945601087, 'reg_alpha': 1.4869512399225908, 'reg_lambda': 3.8730837705144667}. Best is trial 24 with value: 0.9686894133489563.\n",
      "[I 2025-07-27 20:59:00,006] Trial 49 finished with value: 0.9682575353485892 and parameters: {'n_estimators': 232, 'learning_rate': 0.008146195539549846, 'num_leaves': 85, 'max_depth': 4, 'min_child_samples': 17, 'subsample': 0.6925442962273737, 'colsample_bytree': 0.6297897377272892, 'reg_alpha': 2.2313224916191703, 'reg_lambda': 3.187801980834393}. Best is trial 24 with value: 0.9686894133489563.\n"
     ]
    },
    {
     "name": "stdout",
     "output_type": "stream",
     "text": [
      "Best trial:\n",
      "  Accuracy: 0.9686894133489563\n",
      "  Best hyperparameters:\n",
      "    n_estimators: 181\n",
      "    learning_rate: 0.038099687186893334\n",
      "    num_leaves: 80\n",
      "    max_depth: 9\n",
      "    min_child_samples: 28\n",
      "    subsample: 0.8578050266925555\n",
      "    colsample_bytree: 0.5366587253794737\n",
      "    reg_alpha: 3.269238332213025\n",
      "    reg_lambda: 2.341665794508301\n"
     ]
    }
   ],
   "source": [
    "# Run optimization\n",
    "study = optuna.create_study(direction=\"maximize\")\n",
    "study.optimize(objective, n_trials=50, timeout=600)\n",
    "\n",
    "# Show results\n",
    "print(\"Best trial:\")\n",
    "trial = study.best_trial\n",
    "print(f\"  Accuracy: {trial.value}\")\n",
    "print(\"  Best hyperparameters:\")\n",
    "for key, value in trial.params.items():\n",
    "    print(f\"    {key}: {value}\")"
   ]
  },
  {
   "cell_type": "markdown",
   "id": "74b6a3ad",
   "metadata": {
    "papermill": {
     "duration": 0.017473,
     "end_time": "2025-07-27T20:59:00.051264",
     "exception": false,
     "start_time": "2025-07-27T20:59:00.033791",
     "status": "completed"
    },
    "tags": []
   },
   "source": [
    "# Stack models to optimal model"
   ]
  },
  {
   "cell_type": "code",
   "execution_count": 29,
   "id": "2cebc746",
   "metadata": {
    "execution": {
     "iopub.execute_input": "2025-07-27T20:59:00.089920Z",
     "iopub.status.busy": "2025-07-27T20:59:00.089662Z",
     "iopub.status.idle": "2025-07-27T20:59:00.094462Z",
     "shell.execute_reply": "2025-07-27T20:59:00.093894Z"
    },
    "papermill": {
     "duration": 0.022639,
     "end_time": "2025-07-27T20:59:00.095420",
     "exception": false,
     "start_time": "2025-07-27T20:59:00.072781",
     "status": "completed"
    },
    "tags": []
   },
   "outputs": [
    {
     "data": {
      "text/plain": [
       "{'n_estimators': 181,\n",
       " 'learning_rate': 0.038099687186893334,\n",
       " 'num_leaves': 80,\n",
       " 'max_depth': 9,\n",
       " 'min_child_samples': 28,\n",
       " 'subsample': 0.8578050266925555,\n",
       " 'colsample_bytree': 0.5366587253794737,\n",
       " 'reg_alpha': 3.269238332213025,\n",
       " 'reg_lambda': 2.341665794508301,\n",
       " 'class_weight': 'balanced',\n",
       " 'objective': 'binary'}"
      ]
     },
     "execution_count": 29,
     "metadata": {},
     "output_type": "execute_result"
    }
   ],
   "source": [
    "best_params = study.best_params\n",
    "best_params['class_weight'] = 'balanced'\n",
    "best_params['objective'] = 'binary'\n",
    "best_params"
   ]
  },
  {
   "cell_type": "markdown",
   "id": "11ebf22d",
   "metadata": {
    "papermill": {
     "duration": 0.016045,
     "end_time": "2025-07-27T20:59:00.128167",
     "exception": false,
     "start_time": "2025-07-27T20:59:00.112122",
     "status": "completed"
    },
    "tags": []
   },
   "source": [
    "We'll stack Random Forest and XGBoost models to the opimized LightGBM model:"
   ]
  },
  {
   "cell_type": "code",
   "execution_count": 30,
   "id": "938f0a25",
   "metadata": {
    "execution": {
     "iopub.execute_input": "2025-07-27T20:59:00.161485Z",
     "iopub.status.busy": "2025-07-27T20:59:00.161278Z",
     "iopub.status.idle": "2025-07-27T20:59:00.165071Z",
     "shell.execute_reply": "2025-07-27T20:59:00.164546Z"
    },
    "papermill": {
     "duration": 0.021808,
     "end_time": "2025-07-27T20:59:00.166129",
     "exception": false,
     "start_time": "2025-07-27T20:59:00.144321",
     "status": "completed"
    },
    "tags": []
   },
   "outputs": [],
   "source": [
    "lgbm = LGBMClassifier(\n",
    "    **best_params, verbosity=-1\n",
    ")\n",
    "\n",
    "xgb = XGBClassifier(\n",
    "    use_label_encoder=False,\n",
    "    eval_metric=\"logloss\",\n",
    "    random_state=42,\n",
    "    n_estimators=150,\n",
    "    learning_rate=0.05,\n",
    "    max_depth=6\n",
    ")\n",
    "\n",
    "rf = RandomForestClassifier(\n",
    "    n_estimators=100,\n",
    "    max_depth=8,\n",
    "    class_weight='balanced',\n",
    "    random_state=42\n",
    ")"
   ]
  },
  {
   "cell_type": "code",
   "execution_count": 31,
   "id": "77c3008e",
   "metadata": {
    "execution": {
     "iopub.execute_input": "2025-07-27T20:59:00.199409Z",
     "iopub.status.busy": "2025-07-27T20:59:00.199231Z",
     "iopub.status.idle": "2025-07-27T20:59:00.202351Z",
     "shell.execute_reply": "2025-07-27T20:59:00.201862Z"
    },
    "papermill": {
     "duration": 0.020791,
     "end_time": "2025-07-27T20:59:00.203369",
     "exception": false,
     "start_time": "2025-07-27T20:59:00.182578",
     "status": "completed"
    },
    "tags": []
   },
   "outputs": [],
   "source": [
    "base_models = [\n",
    "    (\"lgbm\", lgbm),\n",
    "    (\"xgb\", xgb),\n",
    "    (\"rf\", rf)\n",
    "]\n",
    "\n",
    "meta_model = LogisticRegression()"
   ]
  },
  {
   "cell_type": "code",
   "execution_count": 32,
   "id": "28e97b65",
   "metadata": {
    "execution": {
     "iopub.execute_input": "2025-07-27T20:59:00.236013Z",
     "iopub.status.busy": "2025-07-27T20:59:00.235383Z",
     "iopub.status.idle": "2025-07-27T20:59:00.239116Z",
     "shell.execute_reply": "2025-07-27T20:59:00.238607Z"
    },
    "papermill": {
     "duration": 0.020925,
     "end_time": "2025-07-27T20:59:00.240201",
     "exception": false,
     "start_time": "2025-07-27T20:59:00.219276",
     "status": "completed"
    },
    "tags": []
   },
   "outputs": [],
   "source": [
    "stacked_model = Pipeline([\n",
    "    (\"imputer\", SimpleImputer(strategy=\"mean\")),\n",
    "    (\"scaler\", StandardScaler()),\n",
    "    (\"classifier\", StackingClassifier(\n",
    "        estimators=base_models,\n",
    "        final_estimator=meta_model,\n",
    "        cv=5,\n",
    "        passthrough=True,\n",
    "        n_jobs=-1\n",
    "    ))\n",
    "])"
   ]
  },
  {
   "cell_type": "code",
   "execution_count": 33,
   "id": "07098b59",
   "metadata": {
    "execution": {
     "iopub.execute_input": "2025-07-27T20:59:00.272464Z",
     "iopub.status.busy": "2025-07-27T20:59:00.272290Z",
     "iopub.status.idle": "2025-07-27T21:00:00.413613Z",
     "shell.execute_reply": "2025-07-27T21:00:00.412875Z"
    },
    "papermill": {
     "duration": 60.180965,
     "end_time": "2025-07-27T21:00:00.437198",
     "exception": false,
     "start_time": "2025-07-27T20:59:00.256233",
     "status": "completed"
    },
    "tags": []
   },
   "outputs": [
    {
     "name": "stdout",
     "output_type": "stream",
     "text": [
      "Stacked Model Scores:\n",
      "\n",
      "Accuracy: 0.9687974047096475\n",
      "F1-score: 0.9398371108553448\n",
      "ROC AUC: 0.9690611447512583\n"
     ]
    }
   ],
   "source": [
    "acc = cross_val_score(stacked_model, X, y, cv=skf, scoring=\"accuracy\").mean()\n",
    "f1 = cross_val_score(stacked_model, X, y, cv=skf, scoring=\"f1\").mean()\n",
    "auc = cross_val_score(stacked_model, X, y, cv=skf, scoring=\"roc_auc\").mean()\n",
    "\n",
    "print(\"Stacked Model Scores:\\n\")\n",
    "print(f\"Accuracy: {acc}\")\n",
    "print(f\"F1-score: {f1}\")\n",
    "print(f\"ROC AUC: {auc}\")"
   ]
  },
  {
   "cell_type": "code",
   "execution_count": 34,
   "id": "4054d10b",
   "metadata": {
    "execution": {
     "iopub.execute_input": "2025-07-27T21:00:00.471058Z",
     "iopub.status.busy": "2025-07-27T21:00:00.470811Z",
     "iopub.status.idle": "2025-07-27T21:00:04.551328Z",
     "shell.execute_reply": "2025-07-27T21:00:04.550694Z"
    },
    "papermill": {
     "duration": 4.099043,
     "end_time": "2025-07-27T21:00:04.552781",
     "exception": false,
     "start_time": "2025-07-27T21:00:00.453738",
     "status": "completed"
    },
    "tags": []
   },
   "outputs": [
    {
     "data": {
      "text/html": [
       "<style>#sk-container-id-1 {color: black;background-color: white;}#sk-container-id-1 pre{padding: 0;}#sk-container-id-1 div.sk-toggleable {background-color: white;}#sk-container-id-1 label.sk-toggleable__label {cursor: pointer;display: block;width: 100%;margin-bottom: 0;padding: 0.3em;box-sizing: border-box;text-align: center;}#sk-container-id-1 label.sk-toggleable__label-arrow:before {content: \"▸\";float: left;margin-right: 0.25em;color: #696969;}#sk-container-id-1 label.sk-toggleable__label-arrow:hover:before {color: black;}#sk-container-id-1 div.sk-estimator:hover label.sk-toggleable__label-arrow:before {color: black;}#sk-container-id-1 div.sk-toggleable__content {max-height: 0;max-width: 0;overflow: hidden;text-align: left;background-color: #f0f8ff;}#sk-container-id-1 div.sk-toggleable__content pre {margin: 0.2em;color: black;border-radius: 0.25em;background-color: #f0f8ff;}#sk-container-id-1 input.sk-toggleable__control:checked~div.sk-toggleable__content {max-height: 200px;max-width: 100%;overflow: auto;}#sk-container-id-1 input.sk-toggleable__control:checked~label.sk-toggleable__label-arrow:before {content: \"▾\";}#sk-container-id-1 div.sk-estimator input.sk-toggleable__control:checked~label.sk-toggleable__label {background-color: #d4ebff;}#sk-container-id-1 div.sk-label input.sk-toggleable__control:checked~label.sk-toggleable__label {background-color: #d4ebff;}#sk-container-id-1 input.sk-hidden--visually {border: 0;clip: rect(1px 1px 1px 1px);clip: rect(1px, 1px, 1px, 1px);height: 1px;margin: -1px;overflow: hidden;padding: 0;position: absolute;width: 1px;}#sk-container-id-1 div.sk-estimator {font-family: monospace;background-color: #f0f8ff;border: 1px dotted black;border-radius: 0.25em;box-sizing: border-box;margin-bottom: 0.5em;}#sk-container-id-1 div.sk-estimator:hover {background-color: #d4ebff;}#sk-container-id-1 div.sk-parallel-item::after {content: \"\";width: 100%;border-bottom: 1px solid gray;flex-grow: 1;}#sk-container-id-1 div.sk-label:hover label.sk-toggleable__label {background-color: #d4ebff;}#sk-container-id-1 div.sk-serial::before {content: \"\";position: absolute;border-left: 1px solid gray;box-sizing: border-box;top: 0;bottom: 0;left: 50%;z-index: 0;}#sk-container-id-1 div.sk-serial {display: flex;flex-direction: column;align-items: center;background-color: white;padding-right: 0.2em;padding-left: 0.2em;position: relative;}#sk-container-id-1 div.sk-item {position: relative;z-index: 1;}#sk-container-id-1 div.sk-parallel {display: flex;align-items: stretch;justify-content: center;background-color: white;position: relative;}#sk-container-id-1 div.sk-item::before, #sk-container-id-1 div.sk-parallel-item::before {content: \"\";position: absolute;border-left: 1px solid gray;box-sizing: border-box;top: 0;bottom: 0;left: 50%;z-index: -1;}#sk-container-id-1 div.sk-parallel-item {display: flex;flex-direction: column;z-index: 1;position: relative;background-color: white;}#sk-container-id-1 div.sk-parallel-item:first-child::after {align-self: flex-end;width: 50%;}#sk-container-id-1 div.sk-parallel-item:last-child::after {align-self: flex-start;width: 50%;}#sk-container-id-1 div.sk-parallel-item:only-child::after {width: 0;}#sk-container-id-1 div.sk-dashed-wrapped {border: 1px dashed gray;margin: 0 0.4em 0.5em 0.4em;box-sizing: border-box;padding-bottom: 0.4em;background-color: white;}#sk-container-id-1 div.sk-label label {font-family: monospace;font-weight: bold;display: inline-block;line-height: 1.2em;}#sk-container-id-1 div.sk-label-container {text-align: center;}#sk-container-id-1 div.sk-container {/* jupyter's `normalize.less` sets `[hidden] { display: none; }` but bootstrap.min.css set `[hidden] { display: none !important; }` so we also need the `!important` here to be able to override the default hidden behavior on the sphinx rendered scikit-learn.org. See: https://github.com/scikit-learn/scikit-learn/issues/21755 */display: inline-block !important;position: relative;}#sk-container-id-1 div.sk-text-repr-fallback {display: none;}</style><div id=\"sk-container-id-1\" class=\"sk-top-container\"><div class=\"sk-text-repr-fallback\"><pre>Pipeline(steps=[(&#x27;imputer&#x27;, SimpleImputer()), (&#x27;scaler&#x27;, StandardScaler()),\n",
       "                (&#x27;classifier&#x27;,\n",
       "                 StackingClassifier(cv=5,\n",
       "                                    estimators=[(&#x27;lgbm&#x27;,\n",
       "                                                 LGBMClassifier(class_weight=&#x27;balanced&#x27;,\n",
       "                                                                colsample_bytree=0.5366587253794737,\n",
       "                                                                learning_rate=0.038099687186893334,\n",
       "                                                                max_depth=9,\n",
       "                                                                min_child_samples=28,\n",
       "                                                                n_estimators=181,\n",
       "                                                                num_leaves=80,\n",
       "                                                                objective=&#x27;binary&#x27;,\n",
       "                                                                reg_alpha=3.269238332213025...\n",
       "                                                               max_delta_step=None,\n",
       "                                                               max_depth=6,\n",
       "                                                               max_leaves=None,\n",
       "                                                               min_child_weight=None,\n",
       "                                                               missing=nan,\n",
       "                                                               monotone_constraints=None,\n",
       "                                                               multi_strategy=None,\n",
       "                                                               n_estimators=150,\n",
       "                                                               n_jobs=None,\n",
       "                                                               num_parallel_tree=None,\n",
       "                                                               random_state=42, ...)),\n",
       "                                                (&#x27;rf&#x27;,\n",
       "                                                 RandomForestClassifier(class_weight=&#x27;balanced&#x27;,\n",
       "                                                                        max_depth=8,\n",
       "                                                                        random_state=42))],\n",
       "                                    final_estimator=LogisticRegression(),\n",
       "                                    n_jobs=-1, passthrough=True))])</pre><b>In a Jupyter environment, please rerun this cell to show the HTML representation or trust the notebook. <br />On GitHub, the HTML representation is unable to render, please try loading this page with nbviewer.org.</b></div><div class=\"sk-container\" hidden><div class=\"sk-item sk-dashed-wrapped\"><div class=\"sk-label-container\"><div class=\"sk-label sk-toggleable\"><input class=\"sk-toggleable__control sk-hidden--visually\" id=\"sk-estimator-id-1\" type=\"checkbox\" ><label for=\"sk-estimator-id-1\" class=\"sk-toggleable__label sk-toggleable__label-arrow\">Pipeline</label><div class=\"sk-toggleable__content\"><pre>Pipeline(steps=[(&#x27;imputer&#x27;, SimpleImputer()), (&#x27;scaler&#x27;, StandardScaler()),\n",
       "                (&#x27;classifier&#x27;,\n",
       "                 StackingClassifier(cv=5,\n",
       "                                    estimators=[(&#x27;lgbm&#x27;,\n",
       "                                                 LGBMClassifier(class_weight=&#x27;balanced&#x27;,\n",
       "                                                                colsample_bytree=0.5366587253794737,\n",
       "                                                                learning_rate=0.038099687186893334,\n",
       "                                                                max_depth=9,\n",
       "                                                                min_child_samples=28,\n",
       "                                                                n_estimators=181,\n",
       "                                                                num_leaves=80,\n",
       "                                                                objective=&#x27;binary&#x27;,\n",
       "                                                                reg_alpha=3.269238332213025...\n",
       "                                                               max_delta_step=None,\n",
       "                                                               max_depth=6,\n",
       "                                                               max_leaves=None,\n",
       "                                                               min_child_weight=None,\n",
       "                                                               missing=nan,\n",
       "                                                               monotone_constraints=None,\n",
       "                                                               multi_strategy=None,\n",
       "                                                               n_estimators=150,\n",
       "                                                               n_jobs=None,\n",
       "                                                               num_parallel_tree=None,\n",
       "                                                               random_state=42, ...)),\n",
       "                                                (&#x27;rf&#x27;,\n",
       "                                                 RandomForestClassifier(class_weight=&#x27;balanced&#x27;,\n",
       "                                                                        max_depth=8,\n",
       "                                                                        random_state=42))],\n",
       "                                    final_estimator=LogisticRegression(),\n",
       "                                    n_jobs=-1, passthrough=True))])</pre></div></div></div><div class=\"sk-serial\"><div class=\"sk-item\"><div class=\"sk-estimator sk-toggleable\"><input class=\"sk-toggleable__control sk-hidden--visually\" id=\"sk-estimator-id-2\" type=\"checkbox\" ><label for=\"sk-estimator-id-2\" class=\"sk-toggleable__label sk-toggleable__label-arrow\">SimpleImputer</label><div class=\"sk-toggleable__content\"><pre>SimpleImputer()</pre></div></div></div><div class=\"sk-item\"><div class=\"sk-estimator sk-toggleable\"><input class=\"sk-toggleable__control sk-hidden--visually\" id=\"sk-estimator-id-3\" type=\"checkbox\" ><label for=\"sk-estimator-id-3\" class=\"sk-toggleable__label sk-toggleable__label-arrow\">StandardScaler</label><div class=\"sk-toggleable__content\"><pre>StandardScaler()</pre></div></div></div><div class=\"sk-item\"><div class=\"sk-label-container\"><div class=\"sk-label sk-toggleable\"><input class=\"sk-toggleable__control sk-hidden--visually\" id=\"sk-estimator-id-4\" type=\"checkbox\" ><label for=\"sk-estimator-id-4\" class=\"sk-toggleable__label sk-toggleable__label-arrow\">classifier: StackingClassifier</label><div class=\"sk-toggleable__content\"><pre>StackingClassifier(cv=5,\n",
       "                   estimators=[(&#x27;lgbm&#x27;,\n",
       "                                LGBMClassifier(class_weight=&#x27;balanced&#x27;,\n",
       "                                               colsample_bytree=0.5366587253794737,\n",
       "                                               learning_rate=0.038099687186893334,\n",
       "                                               max_depth=9,\n",
       "                                               min_child_samples=28,\n",
       "                                               n_estimators=181, num_leaves=80,\n",
       "                                               objective=&#x27;binary&#x27;,\n",
       "                                               reg_alpha=3.269238332213025,\n",
       "                                               reg_lambda=2.341665794508301,\n",
       "                                               subsample=0.8578050266925555,\n",
       "                                               verbosity=-1)),\n",
       "                               (&#x27;xgb&#x27;,\n",
       "                                XGBCl...\n",
       "                                              max_delta_step=None, max_depth=6,\n",
       "                                              max_leaves=None,\n",
       "                                              min_child_weight=None,\n",
       "                                              missing=nan,\n",
       "                                              monotone_constraints=None,\n",
       "                                              multi_strategy=None,\n",
       "                                              n_estimators=150, n_jobs=None,\n",
       "                                              num_parallel_tree=None,\n",
       "                                              random_state=42, ...)),\n",
       "                               (&#x27;rf&#x27;,\n",
       "                                RandomForestClassifier(class_weight=&#x27;balanced&#x27;,\n",
       "                                                       max_depth=8,\n",
       "                                                       random_state=42))],\n",
       "                   final_estimator=LogisticRegression(), n_jobs=-1,\n",
       "                   passthrough=True)</pre></div></div></div><div class=\"sk-serial\"><div class=\"sk-item\"><div class=\"sk-parallel\"><div class=\"sk-parallel-item\"><div class=\"sk-item\"><div class=\"sk-label-container\"><div class=\"sk-label sk-toggleable\"><label>lgbm</label></div></div><div class=\"sk-serial\"><div class=\"sk-item\"><div class=\"sk-estimator sk-toggleable\"><input class=\"sk-toggleable__control sk-hidden--visually\" id=\"sk-estimator-id-5\" type=\"checkbox\" ><label for=\"sk-estimator-id-5\" class=\"sk-toggleable__label sk-toggleable__label-arrow\">LGBMClassifier</label><div class=\"sk-toggleable__content\"><pre>LGBMClassifier(class_weight=&#x27;balanced&#x27;, colsample_bytree=0.5366587253794737,\n",
       "               learning_rate=0.038099687186893334, max_depth=9,\n",
       "               min_child_samples=28, n_estimators=181, num_leaves=80,\n",
       "               objective=&#x27;binary&#x27;, reg_alpha=3.269238332213025,\n",
       "               reg_lambda=2.341665794508301, subsample=0.8578050266925555,\n",
       "               verbosity=-1)</pre></div></div></div></div></div></div><div class=\"sk-parallel-item\"><div class=\"sk-item\"><div class=\"sk-label-container\"><div class=\"sk-label sk-toggleable\"><label>xgb</label></div></div><div class=\"sk-serial\"><div class=\"sk-item\"><div class=\"sk-estimator sk-toggleable\"><input class=\"sk-toggleable__control sk-hidden--visually\" id=\"sk-estimator-id-6\" type=\"checkbox\" ><label for=\"sk-estimator-id-6\" class=\"sk-toggleable__label sk-toggleable__label-arrow\">XGBClassifier</label><div class=\"sk-toggleable__content\"><pre>XGBClassifier(base_score=None, booster=None, callbacks=None,\n",
       "              colsample_bylevel=None, colsample_bynode=None,\n",
       "              colsample_bytree=None, device=None, early_stopping_rounds=None,\n",
       "              enable_categorical=False, eval_metric=&#x27;logloss&#x27;,\n",
       "              feature_types=None, gamma=None, grow_policy=None,\n",
       "              importance_type=None, interaction_constraints=None,\n",
       "              learning_rate=0.05, max_bin=None, max_cat_threshold=None,\n",
       "              max_cat_to_onehot=None, max_delta_step=None, max_depth=6,\n",
       "              max_leaves=None, min_child_weight=None, missing=nan,\n",
       "              monotone_constraints=None, multi_strategy=None, n_estimators=150,\n",
       "              n_jobs=None, num_parallel_tree=None, random_state=42, ...)</pre></div></div></div></div></div></div><div class=\"sk-parallel-item\"><div class=\"sk-item\"><div class=\"sk-label-container\"><div class=\"sk-label sk-toggleable\"><label>rf</label></div></div><div class=\"sk-serial\"><div class=\"sk-item\"><div class=\"sk-estimator sk-toggleable\"><input class=\"sk-toggleable__control sk-hidden--visually\" id=\"sk-estimator-id-7\" type=\"checkbox\" ><label for=\"sk-estimator-id-7\" class=\"sk-toggleable__label sk-toggleable__label-arrow\">RandomForestClassifier</label><div class=\"sk-toggleable__content\"><pre>RandomForestClassifier(class_weight=&#x27;balanced&#x27;, max_depth=8, random_state=42)</pre></div></div></div></div></div></div></div></div><div class=\"sk-item\"><div class=\"sk-parallel\"><div class=\"sk-parallel-item\"><div class=\"sk-item\"><div class=\"sk-label-container\"><div class=\"sk-label sk-toggleable\"><label>final_estimator</label></div></div><div class=\"sk-serial\"><div class=\"sk-item\"><div class=\"sk-estimator sk-toggleable\"><input class=\"sk-toggleable__control sk-hidden--visually\" id=\"sk-estimator-id-8\" type=\"checkbox\" ><label for=\"sk-estimator-id-8\" class=\"sk-toggleable__label sk-toggleable__label-arrow\">LogisticRegression</label><div class=\"sk-toggleable__content\"><pre>LogisticRegression()</pre></div></div></div></div></div></div></div></div></div></div></div></div></div></div>"
      ],
      "text/plain": [
       "Pipeline(steps=[('imputer', SimpleImputer()), ('scaler', StandardScaler()),\n",
       "                ('classifier',\n",
       "                 StackingClassifier(cv=5,\n",
       "                                    estimators=[('lgbm',\n",
       "                                                 LGBMClassifier(class_weight='balanced',\n",
       "                                                                colsample_bytree=0.5366587253794737,\n",
       "                                                                learning_rate=0.038099687186893334,\n",
       "                                                                max_depth=9,\n",
       "                                                                min_child_samples=28,\n",
       "                                                                n_estimators=181,\n",
       "                                                                num_leaves=80,\n",
       "                                                                objective='binary',\n",
       "                                                                reg_alpha=3.269238332213025...\n",
       "                                                               max_delta_step=None,\n",
       "                                                               max_depth=6,\n",
       "                                                               max_leaves=None,\n",
       "                                                               min_child_weight=None,\n",
       "                                                               missing=nan,\n",
       "                                                               monotone_constraints=None,\n",
       "                                                               multi_strategy=None,\n",
       "                                                               n_estimators=150,\n",
       "                                                               n_jobs=None,\n",
       "                                                               num_parallel_tree=None,\n",
       "                                                               random_state=42, ...)),\n",
       "                                                ('rf',\n",
       "                                                 RandomForestClassifier(class_weight='balanced',\n",
       "                                                                        max_depth=8,\n",
       "                                                                        random_state=42))],\n",
       "                                    final_estimator=LogisticRegression(),\n",
       "                                    n_jobs=-1, passthrough=True))])"
      ]
     },
     "execution_count": 34,
     "metadata": {},
     "output_type": "execute_result"
    }
   ],
   "source": [
    "stacked_model.fit(X, y)"
   ]
  }
 ],
 "metadata": {
  "kaggle": {
   "accelerator": "nvidiaTeslaT4",
   "dataSources": [
    {
     "databundleVersionId": 12738969,
     "sourceId": 91718,
     "sourceType": "competition"
    }
   ],
   "dockerImageVersionId": 31089,
   "isGpuEnabled": true,
   "isInternetEnabled": true,
   "language": "python",
   "sourceType": "notebook"
  },
  "kernelspec": {
   "display_name": "Python 3 (ipykernel)",
   "language": "python",
   "name": "python3"
  },
  "language_info": {
   "codemirror_mode": {
    "name": "ipython",
    "version": 3
   },
   "file_extension": ".py",
   "mimetype": "text/x-python",
   "name": "python",
   "nbconvert_exporter": "python",
   "pygments_lexer": "ipython3",
   "version": "3.9.17"
  },
  "papermill": {
   "default_parameters": {},
   "duration": 460.350214,
   "end_time": "2025-07-27T21:00:07.441191",
   "environment_variables": {},
   "exception": null,
   "input_path": "__notebook__.ipynb",
   "output_path": "__notebook__.ipynb",
   "parameters": {},
   "start_time": "2025-07-27T20:52:27.090977",
   "version": "2.6.0"
  }
 },
 "nbformat": 4,
 "nbformat_minor": 5
}
